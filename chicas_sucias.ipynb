{
 "cells": [
  {
   "cell_type": "code",
   "execution_count": 80,
   "metadata": {},
   "outputs": [
    {
     "name": "stdout",
     "output_type": "stream",
     "text": [
      "MatrizRala([ \n",
      "    [ 0 0 1 1 1 0 0 0 0 0 0 ]\n",
      "    [ 1 0 0 0 0 0 0 0 0 0 0 ]\n",
      "    [ 0 0 0 0 0 0 0 0 0 0 0 ]\n",
      "    [ 0 0 0 0 0 0 0 0 0 0 0 ]\n",
      "    [ 0 0 0 0 0 0 0 0 0 0 1 ]\n",
      "    [ 1 0 0 0 0 0 1 0 0 0 0 ]\n",
      "    [ 1 0 0 0 0 0 0 1 1 0 0 ]\n",
      "    [ 0 0 0 0 0 0 0 0 1 0 0 ]\n",
      "    [ 0 0 0 0 0 1 0 0 0 0 0 ]\n",
      "    [ 0 0 0 0 0 0 0 0 1 0 0 ]\n",
      "    [ 0 0 0 0 0 0 0 0 0 0 0 ]\n",
      "])\n"
     ]
    }
   ],
   "source": [
    "from matricesRalas import MatrizRala, GaussJordan\n",
    "import numpy as np\n",
    "\n",
    "# Crear una instancia de MatrizRala de tamaño suficiente para incluir todos los índices dados\n",
    "W = MatrizRala(11, 11)  # Asumo que la matriz debe ser lo suficientemente grande para cubrir todos los índices proporcionados\n",
    "\n",
    "# Lista de coordenadas (fila, columna)\n",
    "coordenadas = [\n",
    "    (0, 2), # C cita a A\n",
    "    (0, 3), # D cita a A\n",
    "    (0, 4), # E cita a A\n",
    "    (1, 0), # A cita a B\n",
    "    (4, 10),# K cita a E\n",
    "    (5, 0), # A cita a F\n",
    "    (5, 6), # G cita a F\n",
    "    (6, 0), # A cita a G\n",
    "    (6, 7), # H cita a G\n",
    "    (6, 8), # I cita a G\n",
    "    (7, 8), # I cita a H\n",
    "    (8, 5), # F cita a I\n",
    "    (9, 8)  # I cita a J\n",
    "]\n",
    "\n",
    "# Asignar el valor 1 a las posiciones dadas\n",
    "for fila, columna in coordenadas:\n",
    "    W[fila, columna] = 1\n",
    "\n",
    "# Ahora A tiene todos los valores asignados según las coordenadas\n",
    "print(W)  # Asumo que la clase MatrizRala tiene un método __str__ o similar para imprimir la matriz\n"
   ]
  },
  {
   "cell_type": "code",
   "execution_count": 81,
   "metadata": {},
   "outputs": [
    {
     "name": "stdout",
     "output_type": "stream",
     "text": [
      "MatrizRala([ \n",
      "    [ 0.3333333333333333 0 0 0 0 0 0 0 0 0 0 ]\n",
      "    [ 0 0 0 0 0 0 0 0 0 0 0 ]\n",
      "    [ 0 0 1 0 0 0 0 0 0 0 0 ]\n",
      "    [ 0 0 0 1 0 0 0 0 0 0 0 ]\n",
      "    [ 0 0 0 0 1 0 0 0 0 0 0 ]\n",
      "    [ 0 0 0 0 0 1 0 0 0 0 0 ]\n",
      "    [ 0 0 0 0 0 0 1 0 0 0 0 ]\n",
      "    [ 0 0 0 0 0 0 0 1 0 0 0 ]\n",
      "    [ 0 0 0 0 0 0 0 0 0.3333333333333333 0 0 ]\n",
      "    [ 0 0 0 0 0 0 0 0 0 0 0 ]\n",
      "    [ 0 0 0 0 0 0 0 0 0 0 1 ]\n",
      "])\n"
     ]
    }
   ],
   "source": [
    "from matricesRalas import MatrizRala\n",
    "\n",
    "# Crear una instancia de MatrizRala de tamaño 11x11\n",
    "D = MatrizRala(11, 11)\n",
    "\n",
    "# Asignar el valor 1 a la diagonal principal\n",
    "for i in range(11):\n",
    "    D[i, i] = 1\n",
    "D[0,0]=1/3\n",
    "D[8,8]=1/3\n",
    "D[1,1]=0\n",
    "D[9,9]=0\n",
    "\n",
    "\n",
    "# Ahora A tiene la diagonal principal con todos los valores iguales a 1\n",
    "print(D)"
   ]
  },
  {
   "cell_type": "code",
   "execution_count": 82,
   "metadata": {},
   "outputs": [],
   "source": [
    "\n",
    "# from matricesRalas import MatrizRala\n",
    "# def crearD(mat):\n",
    "    \n",
    "#     # Crear una nueva matriz de ceros con las mismas dimensiones\n",
    "#     nueva_matriz = MatrizRala(*mat.shape)\n",
    "    \n",
    "#     # Calcular la cantidad de unos en cada columna\n",
    "\n",
    "#     for j in range(mat.shape[1]):\n",
    "#         cantidad_unos = 0\n",
    "#         for k in range(mat.shape[0]):\n",
    "#             cantidad_unos = cantidad_unos + mat.__getitem__((k,j))\n",
    "#         if cantidad_unos > 0:\n",
    "#             nueva_matriz[j, j] = 1 / cantidad_unos\n",
    "#         else:\n",
    "#             nueva_matriz[j,j]=0\n",
    "    \n",
    "#     return nueva_matriz\n",
    "\n",
    "\n",
    "# D = crearD(W)\n",
    "# print(D)"
   ]
  },
  {
   "cell_type": "code",
   "execution_count": 83,
   "metadata": {},
   "outputs": [],
   "source": [
    "N = 11\n",
    "d = 0.85\n",
    "I = MatrizRala(N, N)\n",
    "for i in range(N):\n",
    "    I[i, i] = 1\n",
    "\n",
    "# Construimos la matriz A = I - d * W * D\n",
    "multi = W.__matmul__( D)\n",
    "#multi= W @ D\n",
    "multixd= multi.__rmul__(d)\n",
    "A=I.__sub__(multixd)\n",
    "\n",
    "# Vector b\n",
    "b = ((1 - d) / N) * np.ones(N)\n",
    "\n",
    "# Convertimos b a MatrizRala para compatibilidad\n",
    "b_rala = MatrizRala(N, 1)\n",
    "for i in range(N):\n",
    "    b_rala[i, 0] = b[i]"
   ]
  },
  {
   "cell_type": "code",
   "execution_count": 84,
   "metadata": {},
   "outputs": [
    {
     "name": "stdout",
     "output_type": "stream",
     "text": [
      "MatrizRala([ \n",
      "    [ 1.0 0.0 -0.85 -0.85 -0.85 0.0 0.0 0.0 0.0 0.0 0.0 ]\n",
      "    [ -0.2833333333333333 1.0 0.0 0.0 0.0 0.0 0.0 0.0 0.0 0.0 0.0 ]\n",
      "    [ 0 0 1 0 0 0 0 0 0 0 0 ]\n",
      "    [ 0 0 0 1 0 0 0 0 0 0 0 ]\n",
      "    [ 0.0 0.0 0.0 0.0 1.0 0.0 0.0 0.0 0.0 0.0 -0.85 ]\n",
      "    [ -0.2833333333333333 0.0 0.0 0.0 0.0 1.0 -0.85 0.0 0.0 0.0 0.0 ]\n",
      "    [ -0.2833333333333333 0.0 0.0 0.0 0.0 0.0 1.0 -0.85 -0.2833333333333333 0.0 0.0 ]\n",
      "    [ 0.0 0.0 0.0 0.0 0.0 0.0 0.0 1.0 -0.2833333333333333 0.0 0.0 ]\n",
      "    [ 0.0 0.0 0.0 0.0 0.0 -0.85 0.0 0.0 1.0 0.0 0.0 ]\n",
      "    [ 0.0 0.0 0.0 0.0 0.0 0.0 0.0 0.0 -0.2833333333333333 1.0 0.0 ]\n",
      "    [ 0 0 0 0 0 0 0 0 0 0 1 ]\n",
      "])\n",
      "MatrizRala([ \n",
      "    [ 0.01363636363636364 ]\n",
      "    [ 0.01363636363636364 ]\n",
      "    [ 0.01363636363636364 ]\n",
      "    [ 0.01363636363636364 ]\n",
      "    [ 0.01363636363636364 ]\n",
      "    [ 0.01363636363636364 ]\n",
      "    [ 0.01363636363636364 ]\n",
      "    [ 0.01363636363636364 ]\n",
      "    [ 0.01363636363636364 ]\n",
      "    [ 0.01363636363636364 ]\n",
      "    [ 0.01363636363636364 ]\n",
      "])\n",
      "MatrizRala([ \n",
      "    [ 0 0 1 1 1 0 0 0 0 0 0 ]\n",
      "    [ 0.3333333333333333 0 0 0 0 0 0 0 0 0 0 ]\n",
      "    [ 0 0 0 0 0 0 0 0 0 0 0 ]\n",
      "    [ 0 0 0 0 0 0 0 0 0 0 0 ]\n",
      "    [ 0 0 0 0 0 0 0 0 0 0 1 ]\n",
      "    [ 0.3333333333333333 0 0 0 0 0 1 0 0 0 0 ]\n",
      "    [ 0.3333333333333333 0 0 0 0 0 0 1 0.3333333333333333 0 0 ]\n",
      "    [ 0 0 0 0 0 0 0 0 0.3333333333333333 0 0 ]\n",
      "    [ 0 0 0 0 0 1 0 0 0 0 0 ]\n",
      "    [ 0 0 0 0 0 0 0 0 0.3333333333333333 0 0 ]\n",
      "    [ 0 0 0 0 0 0 0 0 0 0 0 ]\n",
      "])\n",
      "MatrizRala([ \n",
      "    [ 0.0 0.0 0.85 0.85 0.85 0.0 0.0 0.0 0.0 0.0 0.0 ]\n",
      "    [ 0.2833333333333333 0.0 0.0 0.0 0.0 0.0 0.0 0.0 0.0 0.0 0.0 ]\n",
      "    [ 0 0 0 0 0 0 0 0 0 0 0 ]\n",
      "    [ 0 0 0 0 0 0 0 0 0 0 0 ]\n",
      "    [ 0.0 0.0 0.0 0.0 0.0 0.0 0.0 0.0 0.0 0.0 0.85 ]\n",
      "    [ 0.2833333333333333 0.0 0.0 0.0 0.0 0.0 0.85 0.0 0.0 0.0 0.0 ]\n",
      "    [ 0.2833333333333333 0.0 0.0 0.0 0.0 0.0 0.0 0.85 0.2833333333333333 0.0 0.0 ]\n",
      "    [ 0.0 0.0 0.0 0.0 0.0 0.0 0.0 0.0 0.2833333333333333 0.0 0.0 ]\n",
      "    [ 0.0 0.0 0.0 0.0 0.0 0.85 0.0 0.0 0.0 0.0 0.0 ]\n",
      "    [ 0.0 0.0 0.0 0.0 0.0 0.0 0.0 0.0 0.2833333333333333 0.0 0.0 ]\n",
      "    [ 0 0 0 0 0 0 0 0 0 0 0 ]\n",
      "])\n"
     ]
    }
   ],
   "source": [
    "\n",
    "print(A)\n",
    "print(b_rala)\n",
    "print(multi) \n",
    "print(multixd) \n"
   ]
  },
  {
   "cell_type": "markdown",
   "metadata": {},
   "source": [
    "$$p^* = \\frac{1-d}{N} \\mathbb{1} +d WDp^*$$"
   ]
  },
  {
   "cell_type": "code",
   "execution_count": 85,
   "metadata": {},
   "outputs": [
    {
     "name": "stdout",
     "output_type": "stream",
     "text": [
      "MatrizRala([ \n",
      "    [ 0.058261363636363646 ]\n",
      "    [ 0.030143750000000004 ]\n",
      "    [ 0.01363636363636364 ]\n",
      "    [ 0.01363636363636364 ]\n",
      "    [ 0.02522727272727273 ]\n",
      "    [ 0.11539510774418678 ]\n",
      "    [ 0.10029571499316091 ]\n",
      "    [ 0.04529098844839165 ]\n",
      "    [ 0.11172220521892239 ]\n",
      "    [ 0.04529098844839165 ]\n",
      "    [ 0.01363636363636364 ]\n",
      "])\n"
     ]
    }
   ],
   "source": [
    "nasty=GaussJordan(A,b_rala)\n",
    "print(nasty)\n"
   ]
  },
  {
   "cell_type": "code",
   "execution_count": 86,
   "metadata": {},
   "outputs": [
    {
     "data": {
      "image/png": "[encoded data removed]",
      "text/plain": [
       "<Figure size 432x288 with 1 Axes>"
      ]
     },
     "metadata": {
      "needs_background": "light"
     },
     "output_type": "display_data"
    },
    {
     "name": "stdout",
     "output_type": "stream",
     "text": [
      "Resultado de Gauss-Jordan: MatrizRala([ \n",
      "    [ 0.058261363636363646 ]\n",
      "    [ 0.030143750000000004 ]\n",
      "    [ 0.01363636363636364 ]\n",
      "    [ 0.01363636363636364 ]\n",
      "    [ 0.02522727272727273 ]\n",
      "    [ 0.11539510774418678 ]\n",
      "    [ 0.10029571499316091 ]\n",
      "    [ 0.04529098844839165 ]\n",
      "    [ 0.11172220521892239 ]\n",
      "    [ 0.04529098844839165 ]\n",
      "    [ 0.01363636363636364 ]\n",
      "])\n",
      "Resultado del método iterativo: MatrizRala([ \n",
      "    [ 0.058261363636363646 ]\n",
      "    [ 0.030143750000000004 ]\n",
      "    [ 0.01363636363636364 ]\n",
      "    [ 0.01363636363636364 ]\n",
      "    [ 0.02522727272727273 ]\n",
      "    [ 0.13380414772727273 ]\n",
      "    [ 0.1309171527777778 ]\n",
      "    [ 0.05772464015151516 ]\n",
      "    [ 0.1197507070707071 ]\n",
      "    [ 0.05772464015151516 ]\n",
      "    [ 0.01363636363636364 ]\n",
      "])\n"
     ]
    }
   ],
   "source": [
    "import numpy as np\n",
    "import matplotlib.pyplot as plt\n",
    "\n",
    "def metodo_iterativo(W, D, d=0.85, tol=0.0000005, max_iter=5):\n",
    "    N = W.shape[0]\n",
    "    p_t = MatrizRala(N, 1)\n",
    "    \n",
    "    # Inicializar p_t con distribución equiprobable\n",
    "    for i in range(N):\n",
    "        p_t[i, 0] = 1 / N\n",
    "    \n",
    "    diferencias = []\n",
    "    \n",
    "    for iteration in range(max_iter):\n",
    "        p_t_next = MatrizRala(N, 1)\n",
    "        \n",
    "        # Calcular p_t_next usando la fórmula iterativa\n",
    "        for i in range(N):\n",
    "            sum_wdp = sum(d * W[i, j] * D[j, j] * p_t[j, 0] for j in range(N) if W[i, j] != 0)\n",
    "            p_t_next[i, 0] = sum_wdp + (1 - d) / N\n",
    "        \n",
    "        # Calcular la diferencia absoluta\n",
    "        diferencia = sum(abs(p_t_next[i, 0] - p_t[i, 0]) for i in range(N))\n",
    "        diferencias.append(diferencia)\n",
    "        \n",
    "        # Verificar convergencia\n",
    "        if diferencia < tol:\n",
    "            break\n",
    "        \n",
    "        p_t = p_t_next\n",
    "    \n",
    "    return p_t, diferencias\n",
    "\n",
    "# Ejecutar el método iterativo\n",
    "p_iterativo, diferencias = metodo_iterativo(W, D)\n",
    "# Graficar la diferencia absoluta\n",
    "plt.plot(diferencias)\n",
    "plt.yscale('log')\n",
    "plt.xlabel('Iteración')\n",
    "plt.ylabel('Diferencia absoluta')\n",
    "plt.title('Diferencia absoluta entre $p_t$ y $p^*$')\n",
    "plt.grid(True)\n",
    "plt.show()\n",
    "\n",
    "# Comparar los resultados de Gauss-Jordan y el método iterativo\n",
    "print(\"Resultado de Gauss-Jordan:\", nasty)\n",
    "print(\"Resultado del método iterativo:\", p_iterativo)"
   ]
  }
 ],
 "metadata": {
  "kernelspec": {
   "display_name": "metodos",
   "language": "python",
   "name": "python3"
  },
  "language_info": {
   "codemirror_mode": {
    "name": "ipython",
    "version": 3
   },
   "file_extension": ".py",
   "mimetype": "text/x-python",
   "name": "python",
   "nbconvert_exporter": "python",
   "pygments_lexer": "ipython3",
   "version": "3.6.6"
  }
 },
 "nbformat": 4,
 "nbformat_minor": 2
}

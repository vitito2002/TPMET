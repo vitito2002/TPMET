{
 "cells": [
  {
   "cell_type": "code",
   "execution_count": 1,
   "metadata": {},
   "outputs": [
    {
     "name": "stdout",
     "output_type": "stream",
     "text": [
      "La solución del sistema es:\n",
      "MatrizRala([ \n",
      "    [ 1.0 ]\n",
      "    [ 2.0 ]\n",
      "    [ 3.0 ]\n",
      "])\n"
     ]
    }
   ],
   "source": [
    "from matricesRalas import MatrizRala, GaussJordan\n",
    "import numpy as np\n",
    "\n",
    "A = MatrizRala(3,3)\n",
    "A[0,0] = 1\n"
   ]
  }
 ],
 "metadata": {
  "kernelspec": {
   "display_name": "metodos",
   "language": "python",
   "name": "python3"
  },
  "language_info": {
   "codemirror_mode": {
    "name": "ipython",
    "version": 3
   },
   "file_extension": ".py",
   "mimetype": "text/x-python",
   "name": "python",
   "nbconvert_exporter": "python",
   "pygments_lexer": "ipython3",
   "version": "3.6.6"
  }
 },
 "nbformat": 4,
 "nbformat_minor": 2
}

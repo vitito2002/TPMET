{
 "cells": [
  {
   "cell_type": "code",
   "execution_count": 43,
   "metadata": {},
   "outputs": [
    {
     "name": "stdout",
     "output_type": "stream",
     "text": [
      "MatrizRala([ \n",
      "    [ 0 0 1 1 1 0 0 0 0 0 0 ]\n",
      "    [ 1 0 0 0 0 0 0 0 0 0 0 ]\n",
      "    [ 0 0 0 0 0 0 0 0 0 0 0 ]\n",
      "    [ 0 0 0 0 0 0 0 0 0 0 0 ]\n",
      "    [ 0 0 0 0 0 0 0 0 0 0 1 ]\n",
      "    [ 1 0 0 0 0 0 1 0 0 0 0 ]\n",
      "    [ 1 0 0 0 0 0 0 1 1 0 0 ]\n",
      "    [ 0 0 0 0 0 0 0 0 1 0 0 ]\n",
      "    [ 0 0 0 0 0 1 0 0 0 0 0 ]\n",
      "    [ 0 0 0 0 0 0 0 0 1 0 0 ]\n",
      "    [ 0 0 0 0 0 0 0 0 0 0 0 ]\n",
      "])\n"
     ]
    }
   ],
   "source": [
    "from matricesRalas import MatrizRala, GaussJordan\n",
    "import numpy as np\n",
    "\n",
    "# Crear una instancia de MatrizRala de tamaño suficiente para incluir todos los índices dados\n",
    "W = MatrizRala(11, 11)  # Asumo que la matriz debe ser lo suficientemente grande para cubrir todos los índices proporcionados\n",
    "\n",
    "# Lista de coordenadas (fila, columna)\n",
    "coordenadas = [\n",
    "    (0, 2), # C cita a A\n",
    "    (0, 3), # D cita a A\n",
    "    (0, 4), # E cita a A\n",
    "    (1, 0), # A cita a B\n",
    "    (4, 10),# K cita a E\n",
    "    (5, 0), # A cita a F\n",
    "    (5, 6), # G cita a F\n",
    "    (6, 0), # A cita a G\n",
    "    (6, 7), # H cita a G\n",
    "    (6, 8), # I cita a G\n",
    "    (7, 8), # I cita a H\n",
    "    (8, 5), # F cita a I\n",
    "    (9, 8)  # I cita a J\n",
    "]\n",
    "\n",
    "# Asignar el valor 1 a las posiciones dadas\n",
    "for fila, columna in coordenadas:\n",
    "    A[fila, columna] = 1\n",
    "\n",
    "# Ahora A tiene todos los valores asignados según las coordenadas\n",
    "print(A)  # Asumo que la clase MatrizRala tiene un método __str__ o similar para imprimir la matriz\n"
   ]
  },
  {
   "cell_type": "code",
   "execution_count": 56,
   "metadata": {},
   "outputs": [
    {
     "ename": "TypeError",
     "evalue": "'int' object is not iterable",
     "output_type": "error",
     "traceback": [
      "\u001b[0;31m---------------------------------------------------------------------------\u001b[0m",
      "\u001b[0;31mTypeError\u001b[0m                                 Traceback (most recent call last)",
      "Cell \u001b[0;32mIn[56], line 20\u001b[0m\n\u001b[1;32m     15\u001b[0m             nueva_matriz[j,j]\u001b[38;5;241m=\u001b[39m\u001b[38;5;241m0\u001b[39m\n\u001b[1;32m     17\u001b[0m     \u001b[38;5;28;01mreturn\u001b[39;00m nueva_matriz\n\u001b[0;32m---> 20\u001b[0m D \u001b[38;5;241m=\u001b[39m \u001b[43mcrearD\u001b[49m\u001b[43m(\u001b[49m\u001b[43mW\u001b[49m\u001b[43m)\u001b[49m\n\u001b[1;32m     21\u001b[0m \u001b[38;5;28mprint\u001b[39m(D)\n",
      "Cell \u001b[0;32mIn[56], line 11\u001b[0m, in \u001b[0;36mcrearD\u001b[0;34m(mat)\u001b[0m\n\u001b[1;32m      9\u001b[0m cantidad_unos \u001b[38;5;241m=\u001b[39m \u001b[38;5;241m0\u001b[39m\n\u001b[1;32m     10\u001b[0m \u001b[38;5;28;01mfor\u001b[39;00m k \u001b[38;5;129;01min\u001b[39;00m \u001b[38;5;28mrange\u001b[39m(mat\u001b[38;5;241m.\u001b[39mshape[\u001b[38;5;241m0\u001b[39m]):\n\u001b[0;32m---> 11\u001b[0m     cantidad_unos \u001b[38;5;241m=\u001b[39m \u001b[38;5;28;43msum\u001b[39;49m\u001b[43m(\u001b[49m\u001b[43m \u001b[49m\u001b[43mmat\u001b[49m\u001b[38;5;241;43m.\u001b[39;49m\u001b[38;5;21;43m__getitem__\u001b[39;49m\u001b[43m(\u001b[49m\u001b[43m(\u001b[49m\u001b[43mk\u001b[49m\u001b[43m,\u001b[49m\u001b[43mj\u001b[49m\u001b[43m)\u001b[49m\u001b[43m)\u001b[49m\u001b[43m)\u001b[49m\n\u001b[1;32m     12\u001b[0m \u001b[38;5;28;01mif\u001b[39;00m cantidad_unos \u001b[38;5;241m>\u001b[39m \u001b[38;5;241m0\u001b[39m:\n\u001b[1;32m     13\u001b[0m     nueva_matriz[j, j] \u001b[38;5;241m=\u001b[39m \u001b[38;5;241m1\u001b[39m \u001b[38;5;241m/\u001b[39m cantidad_unos\n",
      "\u001b[0;31mTypeError\u001b[0m: 'int' object is not iterable"
     ]
    }
   ],
   "source": [
    "def crearD(mat):\n",
    "    \n",
    "    # Crear una nueva matriz de ceros con las mismas dimensiones\n",
    "    nueva_matriz = MatrizRala(*mat.shape)\n",
    "    \n",
    "    # Calcular la cantidad de unos en cada columna\n",
    "\n",
    "    for j in range(mat.shape[1]):\n",
    "        cantidad_unos = 0\n",
    "        for k in range(mat.shape[0]):\n",
    "            cantidad_unos = sum( mat.__getitem__((k,j)))\n",
    "        if cantidad_unos > 0:\n",
    "            nueva_matriz[j, j] = 1 / cantidad_unos\n",
    "        else:\n",
    "            nueva_matriz[j,j]=0\n",
    "    \n",
    "    return nueva_matriz\n",
    "\n",
    "\n",
    "D = crearD(W)\n",
    "print(D)"
   ]
  },
  {
   "cell_type": "markdown",
   "metadata": {},
   "source": [
    "$$p^* = \\frac{1-d}{N} \\mathbb{1} +d WDp^*$$"
   ]
  }
 ],
 "metadata": {
  "kernelspec": {
   "display_name": "metodos",
   "language": "python",
   "name": "python3"
  },
  "language_info": {
   "codemirror_mode": {
    "name": "ipython",
    "version": 3
   },
   "file_extension": ".py",
   "mimetype": "text/x-python",
   "name": "python",
   "nbconvert_exporter": "python",
   "pygments_lexer": "ipython3",
   "version": "3.10.13"
  }
 },
 "nbformat": 4,
 "nbformat_minor": 2
}

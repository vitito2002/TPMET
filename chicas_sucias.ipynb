{
 "cells": [
  {
   "cell_type": "code",
   "execution_count": 86,
   "metadata": {},
   "outputs": [
    {
     "name": "stdout",
     "output_type": "stream",
     "text": [
      "MatrizRala([ \n",
      "    [ 1.0 0.0 1 1 1 0.0 0.0 0.0 0.0 0.0 0.0 ]\n",
      "    [ 1 1.0 0.0 0.0 0.0 0.0 0.0 0.0 0.0 0.0 0.0 ]\n",
      "    [ 0.0 0.0 1.0 0.0 0.0 0.0 0.0 0.0 0.0 0.0 0.0 ]\n",
      "    [ 0.0 0.0 0.0 1.0 0.0 0.0 0.0 0.0 0.0 0.0 0.0 ]\n",
      "    [ 0.0 0.0 0.0 0.0 1.0 0.0 0.0 0.0 0.0 0.0 1 ]\n",
      "    [ 1 0.0 0.0 0.0 0.0 1.0 1 0.0 0.0 0.0 0.0 ]\n",
      "    [ 1 0.0 0.0 0.0 0.0 0.0 1.0 1 1 0.0 0.0 ]\n",
      "    [ 0.0 0.0 0.0 0.0 0.0 0.0 0.0 1.0 1 0.0 0.0 ]\n",
      "    [ 0.0 0.0 0.0 0.0 0.0 1 0.0 0.0 1.0 0.0 0.0 ]\n",
      "    [ 0.0 0.0 0.0 0.0 0.0 0.0 0.0 0.0 1 1.0 0.0 ]\n",
      "    [ 0.0 0.0 0.0 0.0 0.0 0.0 0.0 0.0 0.0 0.0 1.0 ]\n",
      "])\n"
     ]
    }
   ],
   "source": [
    "from matricesRalas import MatrizRala, GaussJordan\n",
    "import numpy as np\n",
    "\n",
    "# Crear una instancia de MatrizRala de tamaño suficiente para incluir todos los índices dados\n",
    "W = MatrizRala(11, 11)  # Asumo que la matriz debe ser lo suficientemente grande para cubrir todos los índices proporcionados\n",
    "\n",
    "# Lista de coordenadas (fila, columna)\n",
    "coordenadas = [\n",
    "    (0, 2), # C cita a A\n",
    "    (0, 3), # D cita a A\n",
    "    (0, 4), # E cita a A\n",
    "    (1, 0), # A cita a B\n",
    "    (4, 10),# K cita a E\n",
    "    (5, 0), # A cita a F\n",
    "    (5, 6), # G cita a F\n",
    "    (6, 0), # A cita a G\n",
    "    (6, 7), # H cita a G\n",
    "    (6, 8), # I cita a G\n",
    "    (7, 8), # I cita a H\n",
    "    (8, 5), # F cita a I\n",
    "    (9, 8)  # I cita a J\n",
    "]\n",
    "\n",
    "# Asignar el valor 1 a las posiciones dadas\n",
    "for fila, columna in coordenadas:\n",
    "    A[fila, columna] = 1\n",
    "\n",
    "# Ahora A tiene todos los valores asignados según las coordenadas\n",
    "print(A)  # Asumo que la clase MatrizRala tiene un método __str__ o similar para imprimir la matriz\n"
   ]
  },
  {
   "cell_type": "code",
   "execution_count": 87,
   "metadata": {},
   "outputs": [
    {
     "name": "stdout",
     "output_type": "stream",
     "text": [
      "MatrizRala([ \n",
      "    [ 0.3333333333333333 0 0 0 0 0 0 0 0 0 0 ]\n",
      "    [ 0 0 0 0 0 0 0 0 0 0 0 ]\n",
      "    [ 0 0 1 0 0 0 0 0 0 0 0 ]\n",
      "    [ 0 0 0 1 0 0 0 0 0 0 0 ]\n",
      "    [ 0 0 0 0 1 0 0 0 0 0 0 ]\n",
      "    [ 0 0 0 0 0 1 0 0 0 0 0 ]\n",
      "    [ 0 0 0 0 0 0 1 0 0 0 0 ]\n",
      "    [ 0 0 0 0 0 0 0 1 0 0 0 ]\n",
      "    [ 0 0 0 0 0 0 0 0 0.3333333333333333 0 0 ]\n",
      "    [ 0 0 0 0 0 0 0 0 0 0 0 ]\n",
      "    [ 0 0 0 0 0 0 0 0 0 0 1 ]\n",
      "])\n"
     ]
    }
   ],
   "source": [
    "from matricesRalas import MatrizRala\n",
    "\n",
    "# Crear una instancia de MatrizRala de tamaño 11x11\n",
    "D = MatrizRala(11, 11)\n",
    "\n",
    "# Asignar el valor 1 a la diagonal principal\n",
    "for i in range(11):\n",
    "    D[i, i] = 1\n",
    "D[0,0]=1/3\n",
    "D[8,8]=1/3\n",
    "D[1,1]=0\n",
    "D[9,9]=0\n",
    "\n",
    "\n",
    "# Ahora A tiene la diagonal principal con todos los valores iguales a 1\n",
    "print(D)"
   ]
  },
  {
   "cell_type": "code",
   "execution_count": 66,
   "metadata": {},
   "outputs": [],
   "source": [
    "\n",
    "# from matricesRalas import MatrizRala\n",
    "# def crearD(mat):\n",
    "    \n",
    "#     # Crear una nueva matriz de ceros con las mismas dimensiones\n",
    "#     nueva_matriz = MatrizRala(*mat.shape)\n",
    "    \n",
    "#     # Calcular la cantidad de unos en cada columna\n",
    "\n",
    "#     for j in range(mat.shape[1]):\n",
    "#         cantidad_unos = 0\n",
    "#         for k in range(mat.shape[0]):\n",
    "#             cantidad_unos = cantidad_unos + mat.__getitem__((k,j))\n",
    "#         if cantidad_unos > 0:\n",
    "#             nueva_matriz[j, j] = 1 / cantidad_unos\n",
    "#         else:\n",
    "#             nueva_matriz[j,j]=0\n",
    "    \n",
    "#     return nueva_matriz\n",
    "\n",
    "\n",
    "# D = crearD(W)\n",
    "# print(D)"
   ]
  },
  {
   "cell_type": "code",
   "execution_count": 88,
   "metadata": {},
   "outputs": [],
   "source": [
    "N = 11\n",
    "d = 0.85\n",
    "I = MatrizRala(N, N)\n",
    "for i in range(N):\n",
    "    I[i, i] = 1\n",
    "\n",
    "# Construimos la matriz A = I - d * W * D\n",
    "A = I - d * (W.__matmul__( D))\n",
    "\n",
    "# Vector b\n",
    "b = ((1 - d) / N) * np.ones(N)\n",
    "\n",
    "# Convertimos b a MatrizRala para compatibilidad\n",
    "b_rala = MatrizRala(N, 1)\n",
    "for i in range(N):\n",
    "    b_rala[i, 0] = b[i]"
   ]
  },
  {
   "cell_type": "code",
   "execution_count": 89,
   "metadata": {},
   "outputs": [
    {
     "name": "stdout",
     "output_type": "stream",
     "text": [
      "(11, 1)\n",
      "(11, 11)\n",
      "MatrizRala([ \n",
      "    [ 1.0 0.0 0.0 0.0 0.0 0.0 0.0 0.0 0.0 0.0 0.0 ]\n",
      "    [ 0.0 1.0 0.0 0.0 0.0 0.0 0.0 0.0 0.0 0.0 0.0 ]\n",
      "    [ 0.0 0.0 1.0 0.0 0.0 0.0 0.0 0.0 0.0 0.0 0.0 ]\n",
      "    [ 0.0 0.0 0.0 1.0 0.0 0.0 0.0 0.0 0.0 0.0 0.0 ]\n",
      "    [ 0.0 0.0 0.0 0.0 1.0 0.0 0.0 0.0 0.0 0.0 0.0 ]\n",
      "    [ 0.0 0.0 0.0 0.0 0.0 1.0 0.0 0.0 0.0 0.0 0.0 ]\n",
      "    [ 0.0 0.0 0.0 0.0 0.0 0.0 1.0 0.0 0.0 0.0 0.0 ]\n",
      "    [ 0.0 0.0 0.0 0.0 0.0 0.0 0.0 1.0 0.0 0.0 0.0 ]\n",
      "    [ 0.0 0.0 0.0 0.0 0.0 0.0 0.0 0.0 1.0 0.0 0.0 ]\n",
      "    [ 0.0 0.0 0.0 0.0 0.0 0.0 0.0 0.0 0.0 1.0 0.0 ]\n",
      "    [ 0.0 0.0 0.0 0.0 0.0 0.0 0.0 0.0 0.0 0.0 1.0 ]\n",
      "])\n",
      "MatrizRala([ \n",
      "    [ 0.0 0 0 0 0 0 0 0 0.0 0 0 ]\n",
      "    [ 0.0 0 0 0 0 0 0 0 0.0 0 0 ]\n",
      "    [ 0.0 0 0 0 0 0 0 0 0.0 0 0 ]\n",
      "    [ 0.0 0 0 0 0 0 0 0 0.0 0 0 ]\n",
      "    [ 0.0 0 0 0 0 0 0 0 0.0 0 0 ]\n",
      "    [ 0.0 0 0 0 0 0 0 0 0.0 0 0 ]\n",
      "    [ 0.0 0 0 0 0 0 0 0 0.0 0 0 ]\n",
      "    [ 0.0 0 0 0 0 0 0 0 0.0 0 0 ]\n",
      "    [ 0.0 0 0 0 0 0 0 0 0.0 0 0 ]\n",
      "    [ 0.0 0 0 0 0 0 0 0 0.0 0 0 ]\n",
      "    [ 0.0 0 0 0 0 0 0 0 0.0 0 0 ]\n",
      "])\n"
     ]
    }
   ],
   "source": [
    "print(b_rala.shape)\n",
    "print(A.shape)#las dimensiones son compatibles\n",
    "print(A)\n",
    "print((W.__matmul__( D))) #queda todo en cero  \n"
   ]
  },
  {
   "cell_type": "markdown",
   "metadata": {},
   "source": [
    "$$p^* = \\frac{1-d}{N} \\mathbb{1} +d WDp^*$$"
   ]
  },
  {
   "cell_type": "code",
   "execution_count": 90,
   "metadata": {},
   "outputs": [
    {
     "ename": "IndexError",
     "evalue": "tuple index out of range",
     "output_type": "error",
     "traceback": [
      "\u001b[0;31m---------------------------------------------------------------------------\u001b[0m",
      "\u001b[0;31mIndexError\u001b[0m                                Traceback (most recent call last)",
      "Cell \u001b[0;32mIn[90], line 1\u001b[0m\n\u001b[0;32m----> 1\u001b[0m \u001b[38;5;28mprint\u001b[39m(\u001b[43mGaussJordan\u001b[49m\u001b[43m(\u001b[49m\u001b[43mA\u001b[49m\u001b[43m,\u001b[49m\u001b[43mb\u001b[49m\u001b[43m)\u001b[49m)\n",
      "File \u001b[0;32m~/Desktop/fq/METODOS/TPMET/matricesRalas.py:230\u001b[0m, in \u001b[0;36mGaussJordan\u001b[0;34m(A, B)\u001b[0m\n\u001b[1;32m    227\u001b[0m \u001b[38;5;66;03m# Concatenar A y B horizontalmente para formar una única matriz extendida\u001b[39;00m\n\u001b[1;32m    229\u001b[0m m,n \u001b[38;5;241m=\u001b[39m A\u001b[38;5;241m.\u001b[39mshape\n\u001b[0;32m--> 230\u001b[0m \u001b[38;5;28;01mif\u001b[39;00m B\u001b[38;5;241m.\u001b[39mshape[\u001b[38;5;241m0\u001b[39m] \u001b[38;5;241m!=\u001b[39m m \u001b[38;5;129;01mor\u001b[39;00m \u001b[43mB\u001b[49m\u001b[38;5;241;43m.\u001b[39;49m\u001b[43mshape\u001b[49m\u001b[43m[\u001b[49m\u001b[38;5;241;43m1\u001b[39;49m\u001b[43m]\u001b[49m \u001b[38;5;241m!=\u001b[39m \u001b[38;5;241m1\u001b[39m:\n\u001b[1;32m    231\u001b[0m     \u001b[38;5;28;01mraise\u001b[39;00m \u001b[38;5;167;01mValueError\u001b[39;00m (\u001b[38;5;124m\"\u001b[39m\u001b[38;5;124mDimensiones no compatibles para un sistema\u001b[39m\u001b[38;5;124m\"\u001b[39m)\n\u001b[1;32m    233\u001b[0m extended_matrix \u001b[38;5;241m=\u001b[39m MatrizRala(m,n\u001b[38;5;241m+\u001b[39m\u001b[38;5;241m1\u001b[39m)\n",
      "\u001b[0;31mIndexError\u001b[0m: tuple index out of range"
     ]
    }
   ],
   "source": [
    "print(GaussJordan(A,b))\n"
   ]
  }
 ],
 "metadata": {
  "kernelspec": {
   "display_name": "metodos",
   "language": "python",
   "name": "python3"
  },
  "language_info": {
   "codemirror_mode": {
    "name": "ipython",
    "version": 3
   },
   "file_extension": ".py",
   "mimetype": "text/x-python",
   "name": "python",
   "nbconvert_exporter": "python",
   "pygments_lexer": "ipython3",
   "version": "3.10.13"
  }
 },
 "nbformat": 4,
 "nbformat_minor": 2
}

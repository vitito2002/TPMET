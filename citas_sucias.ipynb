{
 "cells": [
  {
   "cell_type": "code",
   "execution_count": 1,
   "metadata": {},
   "outputs": [],
   "source": [
    "from matricesRalas import MatrizRala, GaussJordan\n",
    "import numpy as np\n",
    "import pandas as pd\n",
    "from matricesRalas import *"
   ]
  },
  {
   "cell_type": "code",
   "execution_count": 2,
   "metadata": {},
   "outputs": [],
   "source": [
    "\n",
    "ids_df = pd.read_csv('papers.csv')\n",
    "unique_ids = pd.concat([ids_df['id']]).unique()\n",
    "citas = pd.read_csv('citas.csv', header=0, names=['from', 'to'])\n",
    "\n",
    "id_to_index = {id_: index for index, id_ in enumerate(sorted(unique_ids))}\n",
    "\n",
    "n = len(unique_ids)\n",
    "\n",
    "cantidad_citas = [0] * n"
   ]
  },
  {
   "cell_type": "code",
   "execution_count": 3,
   "metadata": {},
   "outputs": [],
   "source": [
    "W = MatrizRala(n, n)\n",
    "D = MatrizRala(n, n)\n",
    "# Llenar la matriz W y contar citas\n",
    "for index, row in citas.iterrows():\n",
    "    if row['from'] in id_to_index and row['to'] in id_to_index:\n",
    "        from_index = id_to_index[row['from']]\n",
    "        to_index = id_to_index[row['to']]\n",
    "        W[to_index, from_index] = 1\n",
    "        cantidad_citas[from_index] += 1\n",
    "\n",
    "# Llenar la matriz D\n",
    "for i in range(n):\n",
    "    if cantidad_citas[i] != 0:\n",
    "        D[i, i] = 1 / cantidad_citas[i]"
   ]
  },
  {
   "cell_type": "code",
   "execution_count": 4,
   "metadata": {},
   "outputs": [],
   "source": [
    "N = W.shape[0]\n",
    "\n",
    "P_t = MatrizRala(N,1)\n",
    "VectorUnos = MatrizRala(N,1)\n",
    "\n",
    "for i in range(N):\n",
    "    P_t[i,0] = 1/N\n",
    "    VectorUnos[i,0] = 1"
   ]
  },
  {
   "cell_type": "code",
   "execution_count": 5,
   "metadata": {},
   "outputs": [],
   "source": [
    "tolerancia = 0.001\n",
    "max_iter = 100\n",
    "d = 0.85"
   ]
  },
  {
   "cell_type": "code",
   "execution_count": 6,
   "metadata": {},
   "outputs": [],
   "source": [
    "diferencias=[]\n",
    "dif = 1"
   ]
  },
  {
   "cell_type": "code",
   "execution_count": 7,
   "metadata": {},
   "outputs": [],
   "source": [
    "Denominador = ((1-d)/N)*VectorUnos\n",
    "dW = d * W\n",
    "dWD = dW @ D"
   ]
  },
  {
   "cell_type": "code",
   "execution_count": 10,
   "metadata": {},
   "outputs": [
    {
     "ename": "TypeError",
     "evalue": "'NoneType' object is not subscriptable",
     "output_type": "error",
     "traceback": [
      "\u001b[1;31m---------------------------------------------------------------------------\u001b[0m",
      "\u001b[1;31mTypeError\u001b[0m                                 Traceback (most recent call last)",
      "\u001b[1;32m<ipython-input-10-10f1c5acd696>\u001b[0m in \u001b[0;36m<module>\u001b[1;34m\u001b[0m\n\u001b[0;32m      2\u001b[0m     \u001b[0mP_t1\u001b[0m \u001b[1;33m=\u001b[0m \u001b[0mdWD\u001b[0m \u001b[1;33m@\u001b[0m \u001b[0mP_t\u001b[0m\u001b[1;33m\u001b[0m\u001b[0m\n\u001b[0;32m      3\u001b[0m     \u001b[0mP_t1\u001b[0m \u001b[1;33m=\u001b[0m \u001b[0mDenominador\u001b[0m\u001b[1;33m.\u001b[0m\u001b[0m__add__\u001b[0m\u001b[1;33m(\u001b[0m\u001b[0mP_t1\u001b[0m\u001b[1;33m)\u001b[0m\u001b[1;33m\u001b[0m\u001b[0m\n\u001b[1;32m----> 4\u001b[1;33m     \u001b[0mdif\u001b[0m \u001b[1;33m=\u001b[0m \u001b[0mmax\u001b[0m\u001b[1;33m(\u001b[0m\u001b[0mabs\u001b[0m\u001b[1;33m(\u001b[0m\u001b[0mP_t1\u001b[0m\u001b[1;33m[\u001b[0m\u001b[0mi\u001b[0m\u001b[1;33m,\u001b[0m\u001b[1;36m0\u001b[0m\u001b[1;33m]\u001b[0m \u001b[1;33m-\u001b[0m \u001b[0mP_t\u001b[0m\u001b[1;33m[\u001b[0m\u001b[0mi\u001b[0m\u001b[1;33m,\u001b[0m\u001b[1;36m0\u001b[0m\u001b[1;33m]\u001b[0m\u001b[1;33m)\u001b[0m \u001b[1;32mfor\u001b[0m \u001b[0mi\u001b[0m \u001b[1;32min\u001b[0m \u001b[0mrange\u001b[0m\u001b[1;33m(\u001b[0m\u001b[0mN\u001b[0m\u001b[1;33m)\u001b[0m\u001b[1;33m)\u001b[0m\u001b[1;33m\u001b[0m\u001b[0m\n\u001b[0m\u001b[0;32m      5\u001b[0m     \u001b[0mdiferencias\u001b[0m\u001b[1;33m.\u001b[0m\u001b[0mappend\u001b[0m\u001b[1;33m(\u001b[0m\u001b[0mdif\u001b[0m\u001b[1;33m)\u001b[0m\u001b[1;33m\u001b[0m\u001b[0m\n\u001b[0;32m      6\u001b[0m \u001b[1;33m\u001b[0m\u001b[0m\n",
      "\u001b[1;32m<ipython-input-10-10f1c5acd696>\u001b[0m in \u001b[0;36m<genexpr>\u001b[1;34m(.0)\u001b[0m\n\u001b[0;32m      2\u001b[0m     \u001b[0mP_t1\u001b[0m \u001b[1;33m=\u001b[0m \u001b[0mdWD\u001b[0m \u001b[1;33m@\u001b[0m \u001b[0mP_t\u001b[0m\u001b[1;33m\u001b[0m\u001b[0m\n\u001b[0;32m      3\u001b[0m     \u001b[0mP_t1\u001b[0m \u001b[1;33m=\u001b[0m \u001b[0mDenominador\u001b[0m\u001b[1;33m.\u001b[0m\u001b[0m__add__\u001b[0m\u001b[1;33m(\u001b[0m\u001b[0mP_t1\u001b[0m\u001b[1;33m)\u001b[0m\u001b[1;33m\u001b[0m\u001b[0m\n\u001b[1;32m----> 4\u001b[1;33m     \u001b[0mdif\u001b[0m \u001b[1;33m=\u001b[0m \u001b[0mmax\u001b[0m\u001b[1;33m(\u001b[0m\u001b[0mabs\u001b[0m\u001b[1;33m(\u001b[0m\u001b[0mP_t1\u001b[0m\u001b[1;33m[\u001b[0m\u001b[0mi\u001b[0m\u001b[1;33m,\u001b[0m\u001b[1;36m0\u001b[0m\u001b[1;33m]\u001b[0m \u001b[1;33m-\u001b[0m \u001b[0mP_t\u001b[0m\u001b[1;33m[\u001b[0m\u001b[0mi\u001b[0m\u001b[1;33m,\u001b[0m\u001b[1;36m0\u001b[0m\u001b[1;33m]\u001b[0m\u001b[1;33m)\u001b[0m \u001b[1;32mfor\u001b[0m \u001b[0mi\u001b[0m \u001b[1;32min\u001b[0m \u001b[0mrange\u001b[0m\u001b[1;33m(\u001b[0m\u001b[0mN\u001b[0m\u001b[1;33m)\u001b[0m\u001b[1;33m)\u001b[0m\u001b[1;33m\u001b[0m\u001b[0m\n\u001b[0m\u001b[0;32m      5\u001b[0m     \u001b[0mdiferencias\u001b[0m\u001b[1;33m.\u001b[0m\u001b[0mappend\u001b[0m\u001b[1;33m(\u001b[0m\u001b[0mdif\u001b[0m\u001b[1;33m)\u001b[0m\u001b[1;33m\u001b[0m\u001b[0m\n\u001b[0;32m      6\u001b[0m \u001b[1;33m\u001b[0m\u001b[0m\n",
      "\u001b[1;31mTypeError\u001b[0m: 'NoneType' object is not subscriptable"
     ]
    }
   ],
   "source": [
    "while dif > tolerancia:\n",
    "    P_t1 = dWD @ P_t\n",
    "    P_t1 = Denominador.__add__(P_t1)\n",
    "    dif = max(abs(P_t1[i,0] - P_t[i,0]) for i in range(N))\n",
    "    diferencias.append(dif)\n",
    "\n",
    "    P_t = P_t1\n",
    "\n",
    "print(P_t,diferencias)\n"
   ]
  },
  {
   "cell_type": "code",
   "execution_count": null,
   "metadata": {},
   "outputs": [],
   "source": [
    "def funcion(d,W,D):\n",
    "\n",
    "    # d= 0.85\n",
    "    # tol = 0.0000000000000001\n",
    "    # max_iter = 1\n",
    "\n",
    "    N = W.shape[0]\n",
    "\n",
    "    print(\"1\")\n",
    "\n",
    "    # p_t = MatrizRala(N, 1)\n",
    "    unos = MatrizRala(N,1)\n",
    "    # # Inicializar p_t con distribución equiprobable\n",
    "    for i in range(N):\n",
    "    #     p_t[i, 0] = 1 / N\n",
    "        unos[i,0] = 1\n",
    "    \n",
    "    # print(\"1\")\n",
    "    # diferencias = []\n",
    "    # contador = 0\n",
    "    # diferencia = 100\n",
    "    # print(\"2\")\n",
    "    # WD = W@D\n",
    "    # print(\"3\")\n",
    "    # dWD = d * WD\n",
    "    # print(\"4\")\n",
    "\n",
    "    # parte_div = (1-d)/N * unos\n",
    "\n",
    "    # print(\"5\")\n",
    "    # while diferencia > tol:\n",
    "    #     print(\"6\")\n",
    "    #     dWD_p_t = dWD @ p_t\n",
    "    #     print(\"7\")\n",
    "    #     p_t1 = parte_div\n",
    "    #     print(\"7.5\")\n",
    "    #     p_t1+= dWD_p_t\n",
    "    #     print(\"8\")\n",
    "    #     p_t = p_t1\n",
    "    #     print(\"9\")\n",
    "\n",
    "    #     diferencia = MatrizRala.diffVectors(p_t1,p_t)\n",
    "    #     print(\"10\")\n",
    "    #     diferencias.append(diferencia)\n",
    "    #     contador = contador + 1\n",
    "    #     print (diferencia)\n",
    "    # return contador,diferencias, p_t1\n",
    "    p_t = MatrizRala(N,1)     # Initial equiprobable distribution\n",
    "    for i in range(N):\n",
    "        p_t[i,0] = 1/N\n",
    "\n",
    "    print(\"2\")\n",
    "\n",
    "    tolerance = 0.1\n",
    "    errores = []\n",
    "    error = 1\n",
    "\n",
    "    print(\"3\")\n",
    "\n",
    "\n",
    "    unoMenosDeSobreEne = ((1-d)/N) * unos\n",
    "    d_W = d * W\n",
    "\n",
    "    print(\"4\")\n",
    "\n",
    "    d_WD = d_W @ D\n",
    "\n",
    "    print(\"5\")\n",
    "\n",
    "\n",
    "    while error > tolerance:\n",
    "        print(\"6\")\n",
    "\n",
    "        # Multiplica la matriz W_D por el vector p_t y escala por d\n",
    "        p_t_plus_1 = d_WD @ p_t\n",
    "        print(\"7\")\n",
    "\n",
    "        p_t_plus_1 = unoMenosDeSobreEne + p_t_plus_1\n",
    "        print(\"8\")\n",
    "\n",
    "        # Calcula el error máximo en esta iteración comparando el nuevo vector de PageRank con el anterior\n",
    "        error = max(abs(p_t_plus_1[i,0] - p_t[i,0]) for i in range(N))\n",
    "        print(\"9\")\n",
    "\n",
    "        errores.append(error)\n",
    "        print(\"10\")\n",
    "\n",
    "        # Actualiza el vector de PageRank para la próxima iteración\n",
    "        p_t = p_t_plus_1\n",
    "        print(\"11\")\n",
    "\n",
    "    return p_t, errores\n",
    "\n",
    "\n",
    "\n",
    "diffs,p_sol = funcion(d,W,D)\n",
    "print (diffs,p_sol)"
   ]
  }
 ],
 "metadata": {
  "kernelspec": {
   "display_name": "metodos",
   "language": "python",
   "name": "python3"
  },
  "language_info": {
   "codemirror_mode": {
    "name": "ipython",
    "version": 3
   },
   "file_extension": ".py",
   "mimetype": "text/x-python",
   "name": "python",
   "nbconvert_exporter": "python",
   "pygments_lexer": "ipython3",
   "version": "3.6.6"
  }
 },
 "nbformat": 4,
 "nbformat_minor": 2
}

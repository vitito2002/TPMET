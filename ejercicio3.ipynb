{
 "cells": [
  {
   "cell_type": "markdown",
   "metadata": {},
   "source": [
    "Ejercicio 3: Navajas, Wurzel"
   ]
  },
  {
   "cell_type": "code",
   "execution_count": 51,
   "metadata": {},
   "outputs": [],
   "source": [
    "from matricesRalas import MatrizRala,GaussJordan\n",
    "import numpy as np\n",
    "import matplotlib.pyplot as plt"
   ]
  },
  {
   "cell_type": "code",
   "execution_count": 52,
   "metadata": {},
   "outputs": [
    {
     "name": "stdout",
     "output_type": "stream",
     "text": [
      "MatrizRala([ \n",
      "    [ 0 0 1 1 1 0 0 0 0 0 0 ]\n",
      "    [ 1 0 0 0 0 0 0 0 0 0 0 ]\n",
      "    [ 0 0 0 0 0 0 0 0 0 0 0 ]\n",
      "    [ 0 0 0 0 0 0 0 0 0 0 0 ]\n",
      "    [ 0 0 0 0 0 0 0 0 0 0 1 ]\n",
      "    [ 1 0 0 0 0 0 1 0 0 0 0 ]\n",
      "    [ 1 0 0 0 0 0 0 1 1 0 0 ]\n",
      "    [ 0 0 0 0 0 0 0 0 1 0 0 ]\n",
      "    [ 0 0 0 0 0 1 0 0 0 0 0 ]\n",
      "    [ 0 0 0 0 0 0 0 0 1 0 0 ]\n",
      "    [ 0 0 0 0 0 0 0 0 0 0 0 ]\n",
      "])\n"
     ]
    }
   ],
   "source": [
    "W = MatrizRala(11, 11) \n",
    "coordenadas = [\n",
    "    (0, 2), # C cita a A\n",
    "    (0, 3), # D cita a A\n",
    "    (0, 4), # E cita a A\n",
    "    (1, 0), # A cita a B\n",
    "    (4, 10),# K cita a E\n",
    "    (5, 0), # A cita a F\n",
    "    (5, 6), # G cita a F\n",
    "    (6, 0), # A cita a G\n",
    "    (6, 7), # H cita a G\n",
    "    (6, 8), # I cita a G\n",
    "    (7, 8), # I cita a H\n",
    "    (8, 5), # F cita a I\n",
    "    (9, 8)  # I cita a J\n",
    "]\n",
    "\n",
    "for fila, columna in coordenadas:\n",
    "    W[fila, columna] = 1\n",
    "\n",
    "print(W) "
   ]
  },
  {
   "cell_type": "code",
   "execution_count": 53,
   "metadata": {},
   "outputs": [
    {
     "name": "stdout",
     "output_type": "stream",
     "text": [
      "MatrizRala([ \n",
      "    [ 0.3333333333333333 0 0 0 0 0 0 0 0 0 0 ]\n",
      "    [ 0 0 0 0 0 0 0 0 0 0 0 ]\n",
      "    [ 0 0 1 0 0 0 0 0 0 0 0 ]\n",
      "    [ 0 0 0 1 0 0 0 0 0 0 0 ]\n",
      "    [ 0 0 0 0 1 0 0 0 0 0 0 ]\n",
      "    [ 0 0 0 0 0 1 0 0 0 0 0 ]\n",
      "    [ 0 0 0 0 0 0 1 0 0 0 0 ]\n",
      "    [ 0 0 0 0 0 0 0 1 0 0 0 ]\n",
      "    [ 0 0 0 0 0 0 0 0 0.3333333333333333 0 0 ]\n",
      "    [ 0 0 0 0 0 0 0 0 0 0 0 ]\n",
      "    [ 0 0 0 0 0 0 0 0 0 0 1 ]\n",
      "])\n"
     ]
    }
   ],
   "source": [
    "D = MatrizRala(11, 11)\n",
    "\n",
    "for i in range(11):\n",
    "    D[i, i] = 1\n",
    "D[0,0]=1/3\n",
    "D[8,8]=1/3\n",
    "D[1,1]=0\n",
    "D[9,9]=0\n",
    "\n",
    "print(D)"
   ]
  },
  {
   "cell_type": "markdown",
   "metadata": {},
   "source": [
    "Sea la formula de probabilidades:\n",
    "\n",
    "$$p^*=\\frac{1-d}{N}\\mathbb{1}+dWDp^*$$\n",
    "\n",
    "\n",
    "podemos despejar $p^*$:\n",
    "\n",
    "$$p^*-dWDp^*=-\\frac{1-d}{N}$$\n",
    "\n",
    "$$p^*(\\mathbb{I}-dWD)=-\\frac{1-d}{N} $$\n",
    "\n",
    "y plantear la ecuacion como un sistema lineal $Ax=b$ tal que\n",
    "\n",
    "$$ A=\\mathbb{I}-dWD$$\n",
    "$$x=p^*$$\n",
    "$$b=-\\frac{1-d}{N} $$"
   ]
  },
  {
   "cell_type": "code",
   "execution_count": 54,
   "metadata": {},
   "outputs": [],
   "source": [
    "N = 11\n",
    "d = 0.85\n",
    "\n",
    "I = MatrizRala(N, N)\n",
    "for i in range(N):\n",
    "    I[i, i] = 1\n",
    "\n",
    "# Construimos la matriz A \n",
    "WD = W @ D\n",
    "dWD = WD *(d)\n",
    "A = I - dWD\n",
    "\n",
    "# Construimos el vector b\n",
    "b = ((1 - d) / N) * np.ones(N)\n",
    "\n",
    "b_rala = MatrizRala(N, 1)\n",
    "for i in range(N):\n",
    "    b_rala[i, 0] = b[i]"
   ]
  },
  {
   "cell_type": "code",
   "execution_count": 57,
   "metadata": {},
   "outputs": [
    {
     "name": "stdout",
     "output_type": "stream",
     "text": [
      "Resultado del método Gauss Jordan: MatrizRala([ \n",
      "    [ 0.058261363636363646 ]\n",
      "    [ 0.030143750000000004 ]\n",
      "    [ 0.01363636363636364 ]\n",
      "    [ 0.01363636363636364 ]\n",
      "    [ 0.02522727272727273 ]\n",
      "    [ 0.11539510774418678 ]\n",
      "    [ 0.10029571499316091 ]\n",
      "    [ 0.04529098844839165 ]\n",
      "    [ 0.11172220521892239 ]\n",
      "    [ 0.04529098844839165 ]\n",
      "    [ 0.01363636363636364 ]\n",
      "])\n"
     ]
    }
   ],
   "source": [
    "p_estrella_GJ = GaussJordan(A,b_rala)\n",
    "\n",
    "print(\"Resultado del método Gauss Jordan:\", p_estrella_GJ)"
   ]
  },
  {
   "cell_type": "code",
   "execution_count": 60,
   "metadata": {},
   "outputs": [
    {
     "data": {
      "image/png": "[encoded data removed]",
      "text/plain": [
       "<Figure size 432x288 with 1 Axes>"
      ]
     },
     "metadata": {
      "needs_background": "light"
     },
     "output_type": "display_data"
    },
    {
     "name": "stdout",
     "output_type": "stream",
     "text": [
      "Resultado del método iterativo con tolerancia 0.5: MatrizRala([ \n",
      "    [ 0.1140909090909091 ]\n",
      "    [ 0.08318181818181819 ]\n",
      "    [ 0.01363636363636364 ]\n",
      "    [ 0.01363636363636364 ]\n",
      "    [ 0.02522727272727273 ]\n",
      "    [ 0.20424242424242425 ]\n",
      "    [ 0.14242424242424243 ]\n",
      "    [ 0.0393939393939394 ]\n",
      "    [ 0.11280303030303031 ]\n",
      "    [ 0.0393939393939394 ]\n",
      "    [ 0.01363636363636364 ]\n",
      "])\n",
      "Resultado del método iterativo con tolerancia 0.2: MatrizRala([ \n",
      "    [ 0.058261363636363646 ]\n",
      "    [ 0.030143750000000004 ]\n",
      "    [ 0.01363636363636364 ]\n",
      "    [ 0.01363636363636364 ]\n",
      "    [ 0.02522727272727273 ]\n",
      "    [ 0.12484040404040407 ]\n",
      "    [ 0.1219534090909091 ]\n",
      "    [ 0.06668838383838384 ]\n",
      "    [ 0.15560568181818185 ]\n",
      "    [ 0.06668838383838384 ]\n",
      "    [ 0.01363636363636364 ]\n",
      "])\n",
      "Resultado del método iterativo con tolerancia 0.05: MatrizRala([ \n",
      "    [ 0.058261363636363646 ]\n",
      "    [ 0.030143750000000004 ]\n",
      "    [ 0.01363636363636364 ]\n",
      "    [ 0.01363636363636364 ]\n",
      "    [ 0.02522727272727273 ]\n",
      "    [ 0.12631195196233166 ]\n",
      "    [ 0.10666275631839227 ]\n",
      "    [ 0.04972449891098485 ]\n",
      "    [ 0.13384619401830808 ]\n",
      "    [ 0.04972449891098485 ]\n",
      "    [ 0.01363636363636364 ]\n",
      "])\n",
      "Resultado del método iterativo con tolerancia 0.00001: MatrizRala([ \n",
      "    [ 0.058261363636363646 ]\n",
      "    [ 0.030143750000000004 ]\n",
      "    [ 0.01363636363636364 ]\n",
      "    [ 0.01363636363636364 ]\n",
      "    [ 0.02522727272727273 ]\n",
      "    [ 0.11540193698275807 ]\n",
      "    [ 0.1003018319601222 ]\n",
      "    [ 0.04529382781499128 ]\n",
      "    [ 0.11172965494708038 ]\n",
      "    [ 0.04529382781499128 ]\n",
      "    [ 0.01363636363636364 ]\n",
      "])\n"
     ]
    }
   ],
   "source": [
    "def PageRank(tolerance, d, N, W, D):\n",
    "    p_t0 = MatrizRala(N, 1)  # Initial equiprobable distribution\n",
    "    for i in range(N):\n",
    "        p_t0[i, 0] = 1 / N\n",
    "    diferencia = []\n",
    "    error = 1\n",
    "\n",
    "    Unos = MatrizRala(N,1)\n",
    "    for i in range(N):\n",
    "        Unos[i,0] = 1\n",
    "    b = ((1 - d) / N) * Unos\n",
    "    d_W = d * W\n",
    "    d_WD = d_W @ D\n",
    "\n",
    "    while error > tolerance:\n",
    "        p_t1 = d_WD @ p_t0\n",
    "        p_t1 = b + p_t1\n",
    "        error = MatrizRala.diffVectors(p_t1,p_t0)\n",
    "        diferencia.append(error)\n",
    "        p_t0 = p_t1\n",
    "    return p_t0, diferencia\n",
    "\n",
    "N = 11\n",
    "d = 0.85\n",
    "tolerance1 = 0.5\n",
    "tolerance2 = 0.2\n",
    "tolerance3 = 0.05\n",
    "tolerance4 = 0.00001\n",
    "\n",
    "page_ranks_1,diferencias = PageRank(tolerance1,d, N, W, D)\n",
    "page_ranks_2,diferencias = PageRank(tolerance2,d, N, W, D)\n",
    "page_ranks_3,diferencias = PageRank(tolerance3,d, N, W, D)\n",
    "page_ranks_4,diferencias = PageRank(tolerance4,d, N, W, D)\n",
    "\n",
    "plt.plot(diferencias)\n",
    "plt.yscale('log')\n",
    "plt.xlabel('Iteración')\n",
    "plt.ylabel('Diferencia absoluta')\n",
    "plt.title('Diferencia absoluta entre $p_t$ y $p^*$')\n",
    "plt.grid(True)\n",
    "plt.show()\n",
    "\n",
    "# Comparar los resultados de Gauss-Jordan y el método iterativo\n",
    "print(\"Resultado del método iterativo con tolerancia 0.5:\", page_ranks_1)\n",
    "print(\"Resultado del método iterativo con tolerancia 0.2:\", page_ranks_2)\n",
    "print(\"Resultado del método iterativo con tolerancia 0.05:\", page_ranks_3)\n",
    "print(\"Resultado del método iterativo con tolerancia 0.00001:\", page_ranks_4)\n"
   ]
  }
 ],
 "metadata": {
  "kernelspec": {
   "display_name": "metodos",
   "language": "python",
   "name": "python3"
  },
  "language_info": {
   "codemirror_mode": {
    "name": "ipython",
    "version": 3
   },
   "file_extension": ".py",
   "mimetype": "text/x-python",
   "name": "python",
   "nbconvert_exporter": "python",
   "pygments_lexer": "ipython3",
   "version": "3.6.6"
  }
 },
 "nbformat": 4,
 "nbformat_minor": 2
}

{
 "cells": [
  {
   "cell_type": "markdown",
   "metadata": {},
   "source": [
    "Ejercicio 4: Navajas, Wurzel"
   ]
  },
  {
   "cell_type": "code",
   "execution_count": 6,
   "metadata": {},
   "outputs": [],
   "source": [
    "from matricesRalas import MatrizRala\n",
    "import numpy as np\n",
    "import pandas as pd\n",
    "from matricesRalas import *\n",
    "import csv"
   ]
  },
  {
   "cell_type": "markdown",
   "metadata": {},
   "source": [
    "Carga de CSVs"
   ]
  },
  {
   "cell_type": "code",
   "execution_count": 7,
   "metadata": {},
   "outputs": [],
   "source": [
    "def leer_citas():\n",
    "    archivo_citas = \"papers/citas.csv\"\n",
    "    citas = []\n",
    "    with open(archivo_citas, newline=\"\", encoding=\"utf-8\") as f:\n",
    "        lector = csv.reader(f)\n",
    "        next(lector) #salta encabezado\n",
    "        for cita, citado in lector:\n",
    "            citas.append((int(cita), int(citado)))\n",
    "    return citas\n",
    "\n",
    "\n",
    "def leer_papers():\n",
    "    archivo_papers = \"papers/papers.csv\"\n",
    "    papers = []\n",
    "    with open(archivo_papers, mode=\"r\", encoding=\"utf-8\") as f:\n",
    "        lector = csv.DictReader(f)\n",
    "        for fila in lector:\n",
    "            papers.append(\n",
    "                [fila[\"id\"], fila[\"titulo\"], fila[\"autores\"], fila[\"anio\"]]\n",
    "            )\n",
    "    return papers"
   ]
  },
  {
   "cell_type": "markdown",
   "metadata": {},
   "source": [
    "Generar Matrices"
   ]
  },
  {
   "cell_type": "code",
   "execution_count": 8,
   "metadata": {},
   "outputs": [],
   "source": [
    "# matriz de adyacencia W\n",
    "def genW(lista_citas, lista_papers):\n",
    "    W = MatrizRala(len(lista_papers), len(lista_papers))\n",
    "    for citate, cita in lista_citas:\n",
    "        W[citate, cita] = 1\n",
    "    return W\n",
    "\n",
    "# matriz diagonal D\n",
    "def genD(W):\n",
    "    D = MatrizRala(W.shape[0], W.shape[1])\n",
    "    for i in W.filas:\n",
    "        contador = 0\n",
    "        curr = W.filas[i].raiz\n",
    "        while curr:\n",
    "            contador = contador+ curr.valor[1]\n",
    "            curr = curr.siguiente\n",
    "        if contador > 0:\n",
    "            D[i, i] = 1 / contador\n",
    "    return D"
   ]
  },
  {
   "cell_type": "markdown",
   "metadata": {},
   "source": [
    "Algoritmo Page Rank"
   ]
  },
  {
   "cell_type": "code",
   "execution_count": 9,
   "metadata": {},
   "outputs": [],
   "source": [
    "def PageRank(d, N, W, D):\n",
    "    # distribucion equiprobable\n",
    "    p_t0 = MatrizRala(N, 1) \n",
    "    for i in range(N):\n",
    "        p_t0[i, 0] = 1 / N\n",
    "    tolerance = 0.000001\n",
    "    diferencia = []\n",
    "    error = 1\n",
    "\n",
    "    Unos = MatrizRala(N,1)\n",
    "    for i in range(N):\n",
    "        Unos[i,0] = 1\n",
    "    b = ((1 - d) / N) * Unos\n",
    "    d_W = d * W\n",
    "    d_WD = d_W @ D\n",
    "\n",
    "    while error > tolerance:\n",
    "        p_t1 = d_WD @ p_t0\n",
    "        p_t1 = b + p_t1\n",
    "        error = MatrizRala.diffVectors(p_t1,p_t0)\n",
    "        diferencia.append(error)\n",
    "        p_t0 = p_t1\n",
    "    return p_t0, diferencia"
   ]
  },
  {
   "cell_type": "code",
   "execution_count": 11,
   "metadata": {},
   "outputs": [],
   "source": [
    "def main():\n",
    "    lista_citas = leer_citas()\n",
    "    lista_papers = leer_papers()\n",
    "    \n",
    "    d = 0.85\n",
    "    N = len(lista_papers)\n",
    "    W = genW(lista_citas,lista_papers)\n",
    "    D = genD(W)\n",
    "    \n",
    "    page_ranks = PageRank(d, N, W, D)\n",
    "\n",
    "    aa = [(page_ranks[0][i, 0], i) for i in range(len(lista_papers))]\n",
    "    ranking = sorted(aa, key=lambda x: x[0], reverse=True)\n",
    "    \n",
    "    print(\"Top 10 papers con mayor impacto de:0.00000001:\")\n",
    "    for rank, (score, index) in enumerate(ranking[:10], start=1):\n",
    "        print(f\"{rank}. ID: {lista_papers[index][0]}, Titulo: \\\"{lista_papers[index][1]}\\\", Impacto: {score:.6f}\")\n",
    "\n",
    "\n",
    "if __name__ == \"__main__\":\n",
    "    main()"
   ]
  }
 ],
 "metadata": {
  "kernelspec": {
   "display_name": "metodos",
   "language": "python",
   "name": "python3"
  },
  "language_info": {
   "codemirror_mode": {
    "name": "ipython",
    "version": 3
   },
   "file_extension": ".py",
   "mimetype": "text/x-python",
   "name": "python",
   "nbconvert_exporter": "python",
   "pygments_lexer": "ipython3",
   "version": "3.6.6"
  }
 },
 "nbformat": 4,
 "nbformat_minor": 2
}

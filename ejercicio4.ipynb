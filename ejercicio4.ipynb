{
 "cells": [
  {
   "cell_type": "code",
   "execution_count": 48,
   "metadata": {},
   "outputs": [],
   "source": [
    "from matricesRalas import MatrizRala, GaussJordan\n",
    "import numpy as np\n",
    "import pandas as pd\n",
    "from matricesRalas import *\n",
    "import csv"
   ]
  },
  {
   "cell_type": "markdown",
   "metadata": {},
   "source": [
    "Carga de CSVs"
   ]
  },
  {
   "cell_type": "code",
   "execution_count": 49,
   "metadata": {},
   "outputs": [],
   "source": [
    "papers = pd.read_csv(\"papers/papers.csv\", header=0)\n",
    "citas = pd.read_csv(\"papers/citas.csv\", header=0)\n",
    "\n",
    "\n",
    "def leer_citas():\n",
    "    archivo_citas = \"papers/citas.csv\"\n",
    "    citas = []\n",
    "    with open(archivo_citas, newline=\"\", encoding=\"utf-8\") as f:\n",
    "        lector = csv.reader(f)\n",
    "        next(lector)  # Skip the header row\n",
    "        for cita, citado in lector:\n",
    "            citas.append((int(cita), int(citado)))\n",
    "    return citas\n",
    "\n",
    "\n",
    "def leer_papers():\n",
    "    archivo_papers = \"papers/papers.csv\"\n",
    "    # Lista para almacenar los datos de los papers\n",
    "\n",
    "    papers = []\n",
    "\n",
    "    # Abrir el archivo CSV para leer los datos\n",
    "\n",
    "    with open(archivo_papers, mode=\"r\", encoding=\"utf-8\") as f:\n",
    "        # Crear un objeto reader de CSV\n",
    "\n",
    "        lector = csv.DictReader(f)\n",
    "\n",
    "        # Recorrer las filas del archivo CSV\n",
    "\n",
    "        for fila in lector:\n",
    "            # Añadir cada fila como un diccionario a la lista\n",
    "\n",
    "            papers.append(\n",
    "                [fila[\"id\"], fila[\"titulo\"], fila[\"autores\"], fila[\"anio\"]]\n",
    "            )\n",
    "    return papers"
   ]
  },
  {
   "cell_type": "markdown",
   "metadata": {},
   "source": [
    "Generar Matrices"
   ]
  },
  {
   "cell_type": "code",
   "execution_count": 50,
   "metadata": {},
   "outputs": [],
   "source": [
    "def genW(lista_citas, lista_papers):\n",
    "    W = MatrizRala(len(lista_papers), len(lista_papers))\n",
    "    for citador, citado in lista_citas:\n",
    "        W[citador, citado] = 1\n",
    "    return W\n",
    "\n",
    "\n",
    "def genD(W):\n",
    "    D = MatrizRala(W.shape[0], W.shape[1])\n",
    "    for i in W.filas:\n",
    "        cj = 0\n",
    "        current_node = W.filas[i].raiz\n",
    "        while current_node:\n",
    "            cj += current_node.valor[1]  # Assume valor is a tuple (column_index, value)\n",
    "            current_node = current_node.siguiente\n",
    "        if cj > 0:\n",
    "            D[i, i] = 1 / cj\n",
    "    return D\n"
   ]
  },
  {
   "cell_type": "code",
   "execution_count": 51,
   "metadata": {},
   "outputs": [],
   "source": [
    "def matriz_de_unos(n, m):\n",
    "    matriz = MatrizRala(n, m)\n",
    "    for i in range(matriz.shape[0]):\n",
    "        for j in range(matriz.shape[1]):\n",
    "            matriz[i, j] = 1\n",
    "    return matriz\n"
   ]
  },
  {
   "cell_type": "code",
   "execution_count": 52,
   "metadata": {},
   "outputs": [],
   "source": [
    "def P_it(d, N, W, D):\n",
    "    p_t = MatrizRala(N, 1)  # Initial equiprobable distribution\n",
    "    for i in range(N):\n",
    "        p_t[i, 0] = 1 / N\n",
    "    tolerance = 0.0001\n",
    "    errores = []\n",
    "    error = 1\n",
    "\n",
    "    mat_unos = matriz_de_unos(N, 1)\n",
    "    unoMenosDeSobreEne = ((1 - d) / N) * mat_unos\n",
    "    d_W = d * W\n",
    "    d_WD = d_W @ D\n",
    "\n",
    "    while error > tolerance:\n",
    "        # Multiplica la matriz W_D por el vector p_t y escala por d\n",
    "\n",
    "        p_t_plus_1 = d_WD @ p_t\n",
    "        p_t_plus_1 = unoMenosDeSobreEne + p_t_plus_1\n",
    "        # Calcula el error máximo en esta iteración comparando el nuevo vector de PageRank con el anterior\n",
    "\n",
    "        error = max(abs(p_t_plus_1[i, 0] - p_t[i, 0]) for i in range(N))\n",
    "        errores.append(error)\n",
    "\n",
    "        # Actualiza el vector de PageRank para la próxima iteración\n",
    "\n",
    "        p_t = p_t_plus_1\n",
    "    return p_t, errores\n"
   ]
  },
  {
   "cell_type": "code",
   "execution_count": 54,
   "metadata": {},
   "outputs": [
    {
     "ename": "KeyboardInterrupt",
     "evalue": "",
     "output_type": "error",
     "traceback": [
      "\u001b[1;31m---------------------------------------------------------------------------\u001b[0m",
      "\u001b[1;31mKeyboardInterrupt\u001b[0m                         Traceback (most recent call last)",
      "\u001b[1;32m<ipython-input-54-71732a5e6540>\u001b[0m in \u001b[0;36m<module>\u001b[1;34m\u001b[0m\n\u001b[0;32m     26\u001b[0m \u001b[1;33m\u001b[0m\u001b[0m\n\u001b[0;32m     27\u001b[0m \u001b[1;32mif\u001b[0m \u001b[0m__name__\u001b[0m \u001b[1;33m==\u001b[0m \u001b[1;34m\"__main__\"\u001b[0m\u001b[1;33m:\u001b[0m\u001b[1;33m\u001b[0m\u001b[0m\n\u001b[1;32m---> 28\u001b[1;33m     \u001b[0mmain\u001b[0m\u001b[1;33m(\u001b[0m\u001b[1;33m)\u001b[0m\u001b[1;33m\u001b[0m\u001b[0m\n\u001b[0m",
      "\u001b[1;32m<ipython-input-54-71732a5e6540>\u001b[0m in \u001b[0;36mmain\u001b[1;34m()\u001b[0m\n\u001b[0;32m     11\u001b[0m     \u001b[0md\u001b[0m \u001b[1;33m=\u001b[0m \u001b[1;36m0.85\u001b[0m\u001b[1;33m\u001b[0m\u001b[0m\n\u001b[0;32m     12\u001b[0m \u001b[1;33m\u001b[0m\u001b[0m\n\u001b[1;32m---> 13\u001b[1;33m     \u001b[0mpage_ranks\u001b[0m \u001b[1;33m=\u001b[0m \u001b[0mP_it\u001b[0m\u001b[1;33m(\u001b[0m\u001b[0md\u001b[0m\u001b[1;33m,\u001b[0m \u001b[0mN\u001b[0m\u001b[1;33m,\u001b[0m \u001b[0mW\u001b[0m\u001b[1;33m,\u001b[0m \u001b[0mD\u001b[0m\u001b[1;33m)\u001b[0m\u001b[1;33m\u001b[0m\u001b[0m\n\u001b[0m\u001b[0;32m     14\u001b[0m \u001b[1;33m\u001b[0m\u001b[0m\n\u001b[0;32m     15\u001b[0m     \u001b[1;31m# Create list of (PageRank score, index)\u001b[0m\u001b[1;33m\u001b[0m\u001b[1;33m\u001b[0m\u001b[0m\n",
      "\u001b[1;32m<ipython-input-52-04a5682a1c22>\u001b[0m in \u001b[0;36mP_it\u001b[1;34m(d, N, W, D)\u001b[0m\n\u001b[0;32m     10\u001b[0m     \u001b[0munoMenosDeSobreEne\u001b[0m \u001b[1;33m=\u001b[0m \u001b[1;33m(\u001b[0m\u001b[1;33m(\u001b[0m\u001b[1;36m1\u001b[0m \u001b[1;33m-\u001b[0m \u001b[0md\u001b[0m\u001b[1;33m)\u001b[0m \u001b[1;33m/\u001b[0m \u001b[0mN\u001b[0m\u001b[1;33m)\u001b[0m \u001b[1;33m*\u001b[0m \u001b[0mmat_unos\u001b[0m\u001b[1;33m\u001b[0m\u001b[0m\n\u001b[0;32m     11\u001b[0m     \u001b[0md_W\u001b[0m \u001b[1;33m=\u001b[0m \u001b[0md\u001b[0m \u001b[1;33m*\u001b[0m \u001b[0mW\u001b[0m\u001b[1;33m\u001b[0m\u001b[0m\n\u001b[1;32m---> 12\u001b[1;33m     \u001b[0md_WD\u001b[0m \u001b[1;33m=\u001b[0m \u001b[0md_W\u001b[0m \u001b[1;33m@\u001b[0m \u001b[0mD\u001b[0m\u001b[1;33m\u001b[0m\u001b[0m\n\u001b[0m\u001b[0;32m     13\u001b[0m \u001b[1;33m\u001b[0m\u001b[0m\n\u001b[0;32m     14\u001b[0m     \u001b[1;32mwhile\u001b[0m \u001b[0merror\u001b[0m \u001b[1;33m>\u001b[0m \u001b[0mtolerance\u001b[0m\u001b[1;33m:\u001b[0m\u001b[1;33m\u001b[0m\u001b[0m\n",
      "\u001b[1;32mc:\\Users\\44686374\\Downloads\\TPMET\\matricesRalas.py\u001b[0m in \u001b[0;36m__matmul__\u001b[1;34m(self, other)\u001b[0m\n\u001b[0;32m    235\u001b[0m         \u001b[1;31m#                 total = total + nodo_curr.valor[1] * other[j_curr,j]\u001b[0m\u001b[1;33m\u001b[0m\u001b[1;33m\u001b[0m\u001b[0m\n\u001b[0;32m    236\u001b[0m         \u001b[1;31m#                 nodo_curr = nodo_curr.siguiente\u001b[0m\u001b[1;33m\u001b[0m\u001b[1;33m\u001b[0m\u001b[0m\n\u001b[1;32m--> 237\u001b[1;33m         \u001b[1;31m#             result[i,j] = total\u001b[0m\u001b[1;33m\u001b[0m\u001b[1;33m\u001b[0m\u001b[0m\n\u001b[0m\u001b[0;32m    238\u001b[0m \u001b[1;33m\u001b[0m\u001b[0m\n\u001b[0;32m    239\u001b[0m \u001b[1;33m\u001b[0m\u001b[0m\n",
      "\u001b[1;32mc:\\Users\\44686374\\Downloads\\TPMET\\matricesRalas.py\u001b[0m in \u001b[0;36m__setitem__\u001b[1;34m(self, Idx, v)\u001b[0m\n\u001b[0;32m    149\u001b[0m                 \u001b[0mnodo_previo\u001b[0m \u001b[1;33m=\u001b[0m \u001b[0mnodo_curr\u001b[0m\u001b[1;33m\u001b[0m\u001b[0m\n\u001b[0;32m    150\u001b[0m                 \u001b[0mnodo_curr\u001b[0m \u001b[1;33m=\u001b[0m \u001b[0mnodo_curr\u001b[0m\u001b[1;33m.\u001b[0m\u001b[0msiguiente\u001b[0m\u001b[1;33m\u001b[0m\u001b[0m\n\u001b[1;32m--> 151\u001b[1;33m             \u001b[0mfila\u001b[0m\u001b[1;33m.\u001b[0m\u001b[0mpush\u001b[0m\u001b[1;33m(\u001b[0m\u001b[1;33m(\u001b[0m\u001b[0mn\u001b[0m\u001b[1;33m,\u001b[0m\u001b[0mv\u001b[0m\u001b[1;33m)\u001b[0m\u001b[1;33m)\u001b[0m\u001b[1;33m\u001b[0m\u001b[0m\n\u001b[0m\u001b[0;32m    152\u001b[0m \u001b[1;33m\u001b[0m\u001b[0m\n\u001b[0;32m    153\u001b[0m \u001b[1;33m\u001b[0m\u001b[0m\n",
      "\u001b[1;32mc:\\Users\\44686374\\Downloads\\TPMET\\matricesRalas.py\u001b[0m in \u001b[0;36mpush\u001b[1;34m(self, valor)\u001b[0m\n\u001b[0;32m     43\u001b[0m         \u001b[1;32melse\u001b[0m\u001b[1;33m:\u001b[0m\u001b[1;33m\u001b[0m\u001b[0m\n\u001b[0;32m     44\u001b[0m             \u001b[0mnuevoNodo\u001b[0m \u001b[1;33m=\u001b[0m \u001b[0mself\u001b[0m\u001b[1;33m.\u001b[0m\u001b[0mNodo\u001b[0m\u001b[1;33m(\u001b[0m \u001b[0mvalor\u001b[0m\u001b[1;33m,\u001b[0m \u001b[1;32mNone\u001b[0m \u001b[1;33m)\u001b[0m\u001b[1;33m\u001b[0m\u001b[0m\n\u001b[1;32m---> 45\u001b[1;33m             \u001b[0multimoNodo\u001b[0m \u001b[1;33m=\u001b[0m \u001b[0mself\u001b[0m\u001b[1;33m.\u001b[0m\u001b[0mnodoPorCondicion\u001b[0m\u001b[1;33m(\u001b[0m \u001b[1;32mlambda\u001b[0m \u001b[0mn\u001b[0m\u001b[1;33m:\u001b[0m \u001b[0mn\u001b[0m\u001b[1;33m.\u001b[0m\u001b[0msiguiente\u001b[0m \u001b[1;32mis\u001b[0m \u001b[1;32mNone\u001b[0m \u001b[1;33m)\u001b[0m\u001b[1;33m\u001b[0m\u001b[0m\n\u001b[0m\u001b[0;32m     46\u001b[0m             \u001b[0multimoNodo\u001b[0m\u001b[1;33m.\u001b[0m\u001b[0msiguiente\u001b[0m \u001b[1;33m=\u001b[0m \u001b[0mnuevoNodo\u001b[0m\u001b[1;33m\u001b[0m\u001b[0m\n\u001b[0;32m     47\u001b[0m \u001b[1;33m\u001b[0m\u001b[0m\n",
      "\u001b[1;32mc:\\Users\\44686374\\Downloads\\TPMET\\matricesRalas.py\u001b[0m in \u001b[0;36mnodoPorCondicion\u001b[1;34m(self, funcionCondicion)\u001b[0m\n\u001b[0;32m     69\u001b[0m \u001b[1;33m\u001b[0m\u001b[0m\n\u001b[0;32m     70\u001b[0m         \u001b[0mnodoActual\u001b[0m \u001b[1;33m=\u001b[0m \u001b[0mself\u001b[0m\u001b[1;33m.\u001b[0m\u001b[0mraiz\u001b[0m\u001b[1;33m\u001b[0m\u001b[0m\n\u001b[1;32m---> 71\u001b[1;33m         \u001b[1;32mwhile\u001b[0m \u001b[1;32mnot\u001b[0m \u001b[0mfuncionCondicion\u001b[0m\u001b[1;33m(\u001b[0m \u001b[0mnodoActual\u001b[0m \u001b[1;33m)\u001b[0m\u001b[1;33m:\u001b[0m\u001b[1;33m\u001b[0m\u001b[0m\n\u001b[0m\u001b[0;32m     72\u001b[0m             \u001b[0mnodoActual\u001b[0m \u001b[1;33m=\u001b[0m \u001b[0mnodoActual\u001b[0m\u001b[1;33m.\u001b[0m\u001b[0msiguiente\u001b[0m\u001b[1;33m\u001b[0m\u001b[0m\n\u001b[0;32m     73\u001b[0m             \u001b[1;32mif\u001b[0m \u001b[0mnodoActual\u001b[0m \u001b[1;32mis\u001b[0m \u001b[1;32mNone\u001b[0m\u001b[1;33m:\u001b[0m\u001b[1;33m\u001b[0m\u001b[0m\n",
      "\u001b[1;32mc:\\Users\\44686374\\Downloads\\TPMET\\matricesRalas.py\u001b[0m in \u001b[0;36m<lambda>\u001b[1;34m(n)\u001b[0m\n\u001b[0;32m     43\u001b[0m         \u001b[1;32melse\u001b[0m\u001b[1;33m:\u001b[0m\u001b[1;33m\u001b[0m\u001b[0m\n\u001b[0;32m     44\u001b[0m             \u001b[0mnuevoNodo\u001b[0m \u001b[1;33m=\u001b[0m \u001b[0mself\u001b[0m\u001b[1;33m.\u001b[0m\u001b[0mNodo\u001b[0m\u001b[1;33m(\u001b[0m \u001b[0mvalor\u001b[0m\u001b[1;33m,\u001b[0m \u001b[1;32mNone\u001b[0m \u001b[1;33m)\u001b[0m\u001b[1;33m\u001b[0m\u001b[0m\n\u001b[1;32m---> 45\u001b[1;33m             \u001b[0multimoNodo\u001b[0m \u001b[1;33m=\u001b[0m \u001b[0mself\u001b[0m\u001b[1;33m.\u001b[0m\u001b[0mnodoPorCondicion\u001b[0m\u001b[1;33m(\u001b[0m \u001b[1;32mlambda\u001b[0m \u001b[0mn\u001b[0m\u001b[1;33m:\u001b[0m \u001b[0mn\u001b[0m\u001b[1;33m.\u001b[0m\u001b[0msiguiente\u001b[0m \u001b[1;32mis\u001b[0m \u001b[1;32mNone\u001b[0m \u001b[1;33m)\u001b[0m\u001b[1;33m\u001b[0m\u001b[0m\n\u001b[0m\u001b[0;32m     46\u001b[0m             \u001b[0multimoNodo\u001b[0m\u001b[1;33m.\u001b[0m\u001b[0msiguiente\u001b[0m \u001b[1;33m=\u001b[0m \u001b[0mnuevoNodo\u001b[0m\u001b[1;33m\u001b[0m\u001b[0m\n\u001b[0;32m     47\u001b[0m \u001b[1;33m\u001b[0m\u001b[0m\n",
      "\u001b[1;31mKeyboardInterrupt\u001b[0m: "
     ]
    }
   ],
   "source": [
    "def main():\n",
    "    \n",
    "    # Llamar a la función y pasar la ruta al archivo CSV\n",
    "    lista_citas = leer_citas()\n",
    "    lista_papers = leer_papers()\n",
    "\n",
    "    W = genW(lista_citas,lista_papers)\n",
    "    \n",
    "    D = genD(W)\n",
    "    N = len(lista_papers)\n",
    "    d = 0.85\n",
    "\n",
    "    page_ranks = P_it(d, N, W, D)\n",
    "    \n",
    "    # Create list of (PageRank score, index)\n",
    "    lista = [(page_ranks[0][i, 0], i) for i in range(len(lista_papers))]\n",
    "\n",
    "    # Sort by PageRank score in descending order\n",
    "    sorted_papers = sorted(lista, key=lambda x: x[0], reverse=True)\n",
    "\n",
    "    # Print the top 10 papers with podium ranking\n",
    "    print(\"Top 10 Papers by PageRank:\")\n",
    "    for rank, (score, index) in enumerate(sorted_papers[:10], start=1):\n",
    "        print(f\"{rank}. Paper ID: {lista_papers[index][0]}, Title: \\\"{lista_papers[index][1]}\\\", Score: {score:.6f}\")\n",
    "\n",
    "\n",
    "if __name__ == \"__main__\":\n",
    "    main()"
   ]
  }
 ],
 "metadata": {
  "kernelspec": {
   "display_name": "metodos",
   "language": "python",
   "name": "python3"
  },
  "language_info": {
   "codemirror_mode": {
    "name": "ipython",
    "version": 3
   },
   "file_extension": ".py",
   "mimetype": "text/x-python",
   "name": "python",
   "nbconvert_exporter": "python",
   "pygments_lexer": "ipython3",
   "version": "3.6.6"
  }
 },
 "nbformat": 4,
 "nbformat_minor": 2
}

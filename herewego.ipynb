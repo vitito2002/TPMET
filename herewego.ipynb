{
 "cells": [
  {
   "cell_type": "code",
   "execution_count": 2,
   "metadata": {},
   "outputs": [],
   "source": [
    "from matricesRalas import MatrizRala, GaussJordan\n",
    "import numpy as np\n",
    "import pandas as pd\n",
    "from matricesRalas import *\n",
    "import csv"
   ]
  },
  {
   "cell_type": "code",
   "execution_count": 3,
   "metadata": {},
   "outputs": [],
   "source": [
    "def cargar_citas():\n",
    "    archivo_citas = \"citas.csv\"\n",
    "    lista_citas = []\n",
    "    with open(archivo_citas, newline='', encoding='utf-8') as csvfile:\n",
    "        lector_citas = csv.reader(csvfile)\n",
    "        next(lector_citas)  # Skip the header row\n",
    "        for cita, citado in lector_citas:\n",
    "            lista_citas.append((int(cita),int(citado)))\n",
    "    return lista_citas"
   ]
  },
  {
   "cell_type": "code",
   "execution_count": 4,
   "metadata": {},
   "outputs": [],
   "source": [
    "def cargar_papers():\n",
    "    archivo_papers = \"papers.csv\"\n",
    "    # Lista para almacenar los datos de los papers\n",
    "    lista_papers = []\n",
    "\n",
    "    # Abrir el archivo CSV para leer los datos\n",
    "    with open(archivo_papers, mode='r', encoding='utf-8') as csvfile:\n",
    "        # Crear un objeto reader de CSV\n",
    "        reader = csv.DictReader(csvfile)\n",
    "        \n",
    "        # Recorrer las filas del archivo CSV\n",
    "        for fila in reader:\n",
    "            # Añadir cada fila como un diccionario a la lista\n",
    "            lista_papers.append([\n",
    "                fila['id'],\n",
    "                fila['title'],\n",
    "                fila['authors'],\n",
    "                fila['year']\n",
    "            ])\n",
    "\n",
    "    return lista_papers"
   ]
  },
  {
   "cell_type": "code",
   "execution_count": 5,
   "metadata": {},
   "outputs": [],
   "source": [
    "def crearW(citas_totales,papers_totales):\n",
    "    W = MatrizRala(len(citas_totales),len(papers_totales))\n",
    "    for citador, citado in citas_totales:\n",
    "        W[citador,citado]=1\n",
    "    return W\n",
    "\n",
    "def crearD(W):\n",
    "    D = MatrizRala(W.shape[0], W.shape[1])\n",
    "    for i in W.filas:\n",
    "        pito = 0\n",
    "        curr = W.filas[i].raiz\n",
    "        while curr:\n",
    "            pito = pito + curr.valor[1]\n",
    "            curr = curr.siguiente\n",
    "        if pito > 0:\n",
    "            D[i,i] = 1/pito\n",
    "    return D\n",
    "\n",
    "def crearVectorUno(n):\n",
    "    matriz = MatrizRala(n,1)\n",
    "    for i in range(n):\n",
    "        matriz[i,0] = 1\n",
    "    return matriz"
   ]
  },
  {
   "cell_type": "code",
   "execution_count": 6,
   "metadata": {},
   "outputs": [],
   "source": [
    "tolerancia = 0.001\n",
    "max_iter = 100\n",
    "diferencias=[]\n",
    "dif = 1"
   ]
  },
  {
   "cell_type": "code",
   "execution_count": 7,
   "metadata": {},
   "outputs": [],
   "source": [
    "def iterativa(d,N,W,D):\n",
    "    P_t0 = MatrizRala(N,1)\n",
    "    for i in range(N):\n",
    "        P_t0 [i,0] = 1/N\n",
    "    \n",
    "    Uno = crearVectorUno(N)\n",
    "    Viti = ((1-d)/N) * Uno\n",
    "    dW = d*W\n",
    "    print(dW.shape)\n",
    "    print(D.shape)\n",
    "\n",
    "    dWD = dW @ D\n",
    "\n",
    "    while dif > tolerancia:\n",
    "        print(\"1\")\n",
    "        P_t1 = dWD @ P_t\n",
    "        print(\"2\")\n",
    "        P_t1 = Viti+P_t1\n",
    "        print(\"3\")\n",
    "        dif = P_t.diffVectors(P_t1)\n",
    "        print(\"4\")\n",
    "        diferencias.append(dif)\n",
    "\n",
    "        P_t = P_t1\n",
    "\n",
    "    print(P_t,diferencias)"
   ]
  },
  {
   "cell_type": "code",
   "execution_count": 8,
   "metadata": {},
   "outputs": [
    {
     "name": "stdout",
     "output_type": "stream",
     "text": [
      "w\n",
      "d\n",
      "n\n",
      "(632751, 79007)\n"
     ]
    },
    {
     "ename": "ValueError",
     "evalue": "Las dimensiones de las matrices no son compatibles para la multiplicación.",
     "output_type": "error",
     "traceback": [
      "\u001b[1;31m---------------------------------------------------------------------------\u001b[0m",
      "\u001b[1;31mValueError\u001b[0m                                Traceback (most recent call last)",
      "\u001b[1;32m<ipython-input-8-e07d0686dd1c>\u001b[0m in \u001b[0;36m<module>\u001b[1;34m\u001b[0m\n\u001b[0;32m     10\u001b[0m \u001b[0md\u001b[0m \u001b[1;33m=\u001b[0m \u001b[1;36m0.85\u001b[0m\u001b[1;33m\u001b[0m\u001b[0m\n\u001b[0;32m     11\u001b[0m \u001b[1;33m\u001b[0m\u001b[0m\n\u001b[1;32m---> 12\u001b[1;33m \u001b[0mjiji\u001b[0m \u001b[1;33m=\u001b[0m \u001b[0miterativa\u001b[0m\u001b[1;33m(\u001b[0m\u001b[0md\u001b[0m\u001b[1;33m,\u001b[0m\u001b[0mN\u001b[0m\u001b[1;33m,\u001b[0m\u001b[0mW\u001b[0m\u001b[1;33m,\u001b[0m\u001b[0mD\u001b[0m\u001b[1;33m)\u001b[0m\u001b[1;33m\u001b[0m\u001b[0m\n\u001b[0m",
      "\u001b[1;32m<ipython-input-7-e969fd882a60>\u001b[0m in \u001b[0;36miterativa\u001b[1;34m(d, N, W, D)\u001b[0m\n\u001b[0;32m      9\u001b[0m     \u001b[0mprint\u001b[0m\u001b[1;33m(\u001b[0m\u001b[0mdW\u001b[0m\u001b[1;33m.\u001b[0m\u001b[0mshape\u001b[0m\u001b[1;33m)\u001b[0m\u001b[1;33m\u001b[0m\u001b[0m\n\u001b[0;32m     10\u001b[0m \u001b[1;33m\u001b[0m\u001b[0m\n\u001b[1;32m---> 11\u001b[1;33m     \u001b[0mdWD\u001b[0m \u001b[1;33m=\u001b[0m \u001b[0mdW\u001b[0m \u001b[1;33m@\u001b[0m \u001b[0mD\u001b[0m\u001b[1;33m\u001b[0m\u001b[0m\n\u001b[0m\u001b[0;32m     12\u001b[0m \u001b[1;33m\u001b[0m\u001b[0m\n\u001b[0;32m     13\u001b[0m     \u001b[1;32mwhile\u001b[0m \u001b[0mdif\u001b[0m \u001b[1;33m>\u001b[0m \u001b[0mtolerancia\u001b[0m\u001b[1;33m:\u001b[0m\u001b[1;33m\u001b[0m\u001b[0m\n",
      "\u001b[1;32mc:\\Users\\44686374\\Downloads\\TPMET\\matricesRalas.py\u001b[0m in \u001b[0;36m__matmul__\u001b[1;34m(self, other)\u001b[0m\n\u001b[0;32m    216\u001b[0m         \u001b[1;31m# Esta funcion implementa el producto matricial (notado en Python con el operador \"@\" ) -> A @ B\u001b[0m\u001b[1;33m\u001b[0m\u001b[1;33m\u001b[0m\u001b[0m\n\u001b[0;32m    217\u001b[0m         \u001b[1;32mif\u001b[0m \u001b[0mself\u001b[0m\u001b[1;33m.\u001b[0m\u001b[0mshape\u001b[0m\u001b[1;33m[\u001b[0m\u001b[1;36m1\u001b[0m\u001b[1;33m]\u001b[0m \u001b[1;33m!=\u001b[0m \u001b[0mother\u001b[0m\u001b[1;33m.\u001b[0m\u001b[0mshape\u001b[0m\u001b[1;33m[\u001b[0m\u001b[1;36m0\u001b[0m\u001b[1;33m]\u001b[0m\u001b[1;33m:\u001b[0m\u001b[1;33m\u001b[0m\u001b[0m\n\u001b[1;32m--> 218\u001b[1;33m             \u001b[1;32mraise\u001b[0m \u001b[0mValueError\u001b[0m\u001b[1;33m(\u001b[0m\u001b[1;34m\"Las dimensiones de las matrices no son compatibles para la multiplicación.\"\u001b[0m\u001b[1;33m)\u001b[0m\u001b[1;33m\u001b[0m\u001b[0m\n\u001b[0m\u001b[0;32m    219\u001b[0m \u001b[1;33m\u001b[0m\u001b[0m\n\u001b[0;32m    220\u001b[0m         \u001b[0mresult\u001b[0m \u001b[1;33m=\u001b[0m \u001b[0mMatrizRala\u001b[0m\u001b[1;33m(\u001b[0m\u001b[0mself\u001b[0m\u001b[1;33m.\u001b[0m\u001b[0mshape\u001b[0m\u001b[1;33m[\u001b[0m\u001b[1;36m0\u001b[0m\u001b[1;33m]\u001b[0m\u001b[1;33m,\u001b[0m \u001b[0mother\u001b[0m\u001b[1;33m.\u001b[0m\u001b[0mshape\u001b[0m\u001b[1;33m[\u001b[0m\u001b[1;36m1\u001b[0m\u001b[1;33m]\u001b[0m\u001b[1;33m)\u001b[0m\u001b[1;33m\u001b[0m\u001b[0m\n",
      "\u001b[1;31mValueError\u001b[0m: Las dimensiones de las matrices no son compatibles para la multiplicación."
     ]
    }
   ],
   "source": [
    "citas_totales = cargar_citas()\n",
    "papers_totales = cargar_papers()\n",
    "\n",
    "W = crearW(citas_totales,papers_totales)\n",
    "print(\"w\")\n",
    "D = crearD(W)\n",
    "print(\"d\")\n",
    "N = len(papers_totales)\n",
    "print(\"n\")\n",
    "d = 0.85\n",
    "\n",
    "jiji = iterativa(d,N,W,D)\n"
   ]
  }
 ],
 "metadata": {
  "kernelspec": {
   "display_name": "Python 3",
   "language": "python",
   "name": "python3"
  },
  "language_info": {
   "codemirror_mode": {
    "name": "ipython",
    "version": 3
   },
   "file_extension": ".py",
   "mimetype": "text/x-python",
   "name": "python",
   "nbconvert_exporter": "python",
   "pygments_lexer": "ipython3",
   "version": "3.6.6"
  }
 },
 "nbformat": 4,
 "nbformat_minor": 2
}

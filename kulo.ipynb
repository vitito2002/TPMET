{
 "cells": [
  {
   "cell_type": "code",
   "execution_count": 32,
   "metadata": {},
   "outputs": [],
   "source": [
    "from matricesRalas import MatrizRala, GaussJordan\n",
    "import numpy as np\n",
    "import pandas as pd\n",
    "from matricesRalas import *"
   ]
  },
  {
   "cell_type": "code",
   "execution_count": 33,
   "metadata": {},
   "outputs": [
    {
     "name": "stdout",
     "output_type": "stream",
     "text": [
      "Mapeo de IDs a índices: {0: 0, 1: 1, 2: 2, 3: 3, 4: 4, 5: 5, 6: 6, 7: 7, 8: 8, 9: 9, 10: 10}\n"
     ]
    }
   ],
   "source": [
    "\n",
    "# Leer el archivo de IDs únicos\n",
    "ids_df = pd.read_csv('kaosnum.csv')\n",
    "\n",
    "# Obtener los IDs únicos\n",
    "#unique_ids = ids_df['id'].unique()\n",
    "unique_ids = pd.concat([ids_df['id']]).unique()\n",
    "\n",
    "\n",
    "# Crear un mapeo de ID a índice\n",
    "id_to_index = {id_: index for index, id_ in enumerate(sorted(unique_ids))}\n",
    "\n",
    "# Obtener el número total de IDs únicos\n",
    "n = len(unique_ids)\n",
    "\n",
    "# Inicializar matrices dispersas con el tamaño adecuado\n",
    "W = MatrizRala(n, n)\n",
    "D = MatrizRala(n, n)\n",
    "\n",
    "# Leer el archivo de citas\n",
    "citas = pd.read_csv('K4os.csv', header=0, names=['from', 'to'])\n",
    "\n",
    "# Inicializar el vector de cantidad de citas con el tamaño adecuado\n",
    "cantidad_citas = [0] * n\n",
    "\n",
    "# Llenar la matriz W y contar citas\n",
    "for index, row in citas.iterrows():\n",
    "    if row['from'] in id_to_index and row['to'] in id_to_index:\n",
    "        from_index = id_to_index[row['from']]\n",
    "        to_index = id_to_index[row['to']]\n",
    "        W[to_index, from_index] = 1\n",
    "        cantidad_citas[from_index] += 1\n",
    "\n",
    "# Llenar la matriz D\n",
    "for i in range(n):\n",
    "    if cantidad_citas[i] != 0:\n",
    "        D[i, i] = 1 / cantidad_citas[i]"
   ]
  },
  {
   "cell_type": "code",
   "execution_count": 34,
   "metadata": {},
   "outputs": [
    {
     "name": "stdout",
     "output_type": "stream",
     "text": [
      "MatrizRala([ \n",
      "    [ 0.3333333333333333 0 0 0 0 0 0 0 0 0 0 ]\n",
      "    [ 0 0 0 0 0 0 0 0 0 0 0 ]\n",
      "    [ 0 0 1.0 0 0 0 0 0 0 0 0 ]\n",
      "    [ 0 0 0 1.0 0 0 0 0 0 0 0 ]\n",
      "    [ 0 0 0 0 1.0 0 0 0 0 0 0 ]\n",
      "    [ 0 0 0 0 0 1.0 0 0 0 0 0 ]\n",
      "    [ 0 0 0 0 0 0 1.0 0 0 0 0 ]\n",
      "    [ 0 0 0 0 0 0 0 1.0 0 0 0 ]\n",
      "    [ 0 0 0 0 0 0 0 0 0.3333333333333333 0 0 ]\n",
      "    [ 0 0 0 0 0 0 0 0 0 0 0 ]\n",
      "    [ 0 0 0 0 0 0 0 0 0 0 1.0 ]\n",
      "])\n",
      "MatrizRala([ \n",
      "    [ 0 0 1 1 1 0 0 0 0 0 0 ]\n",
      "    [ 1 0 0 0 0 0 0 0 0 0 0 ]\n",
      "    [ 0 0 0 0 0 0 0 0 0 0 0 ]\n",
      "    [ 0 0 0 0 0 0 0 0 0 0 0 ]\n",
      "    [ 0 0 0 0 0 0 0 0 0 0 1 ]\n",
      "    [ 1 0 0 0 0 0 1 0 0 0 0 ]\n",
      "    [ 1 0 0 0 0 0 0 1 1 0 0 ]\n",
      "    [ 0 0 0 0 0 0 0 0 1 0 0 ]\n",
      "    [ 0 0 0 0 0 1 0 0 0 0 0 ]\n",
      "    [ 0 0 0 0 0 0 0 0 1 0 0 ]\n",
      "    [ 0 0 0 0 0 0 0 0 0 0 0 ]\n",
      "])\n",
      "(11, 11)\n",
      "(11, 11)\n"
     ]
    }
   ],
   "source": [
    "print(D)\n",
    "print(W)\n",
    "\n",
    "print(W.shape)\n",
    "print(D.shape)"
   ]
  }
 ],
 "metadata": {
  "kernelspec": {
   "display_name": "Python 3",
   "language": "python",
   "name": "python3"
  },
  "language_info": {
   "codemirror_mode": {
    "name": "ipython",
    "version": 3
   },
   "file_extension": ".py",
   "mimetype": "text/x-python",
   "name": "python",
   "nbconvert_exporter": "python",
   "pygments_lexer": "ipython3",
   "version": "3.6.6"
  }
 },
 "nbformat": 4,
 "nbformat_minor": 2
}
